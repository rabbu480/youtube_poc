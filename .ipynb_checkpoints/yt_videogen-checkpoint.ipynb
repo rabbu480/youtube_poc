{
 "cells": [
  {
   "cell_type": "code",
   "execution_count": 9,
   "id": "83fe53fe-dccd-4c45-939c-0f6b49c226ce",
   "metadata": {},
   "outputs": [
    {
     "name": "stdout",
     "output_type": "stream",
     "text": [
      "Requirement already satisfied: gTTS in c:\\users\\hai\\.pyenv\\pyenv-win\\versions\\3.9.1\\lib\\site-packages (2.5.3)\n",
      "Requirement already satisfied: moviepy in c:\\users\\hai\\.pyenv\\pyenv-win\\versions\\3.9.1\\lib\\site-packages (1.0.3)\n",
      "Requirement already satisfied: pillow in c:\\users\\hai\\.pyenv\\pyenv-win\\versions\\3.9.1\\lib\\site-packages (10.4.0)\n",
      "Requirement already satisfied: requests<3,>=2.27 in c:\\users\\hai\\.pyenv\\pyenv-win\\versions\\3.9.1\\lib\\site-packages (from gTTS) (2.32.3)\n",
      "Requirement already satisfied: click<8.2,>=7.1 in c:\\users\\hai\\.pyenv\\pyenv-win\\versions\\3.9.1\\lib\\site-packages (from gTTS) (8.1.7)\n",
      "Requirement already satisfied: decorator<5.0,>=4.0.2 in c:\\users\\hai\\.pyenv\\pyenv-win\\versions\\3.9.1\\lib\\site-packages (from moviepy) (4.4.2)\n",
      "Requirement already satisfied: tqdm<5.0,>=4.11.2 in c:\\users\\hai\\.pyenv\\pyenv-win\\versions\\3.9.1\\lib\\site-packages (from moviepy) (4.66.5)\n",
      "Requirement already satisfied: proglog<=1.0.0 in c:\\users\\hai\\.pyenv\\pyenv-win\\versions\\3.9.1\\lib\\site-packages (from moviepy) (0.1.10)\n",
      "Requirement already satisfied: numpy>=1.17.3 in c:\\users\\hai\\.pyenv\\pyenv-win\\versions\\3.9.1\\lib\\site-packages (from moviepy) (2.0.2)\n",
      "Requirement already satisfied: imageio<3.0,>=2.5 in c:\\users\\hai\\.pyenv\\pyenv-win\\versions\\3.9.1\\lib\\site-packages (from moviepy) (2.35.1)\n",
      "Requirement already satisfied: imageio-ffmpeg>=0.2.0 in c:\\users\\hai\\.pyenv\\pyenv-win\\versions\\3.9.1\\lib\\site-packages (from moviepy) (0.5.1)\n",
      "Requirement already satisfied: colorama in c:\\users\\hai\\.pyenv\\pyenv-win\\versions\\3.9.1\\lib\\site-packages (from click<8.2,>=7.1->gTTS) (0.4.6)\n",
      "Requirement already satisfied: setuptools in c:\\users\\hai\\.pyenv\\pyenv-win\\versions\\3.9.1\\lib\\site-packages (from imageio-ffmpeg>=0.2.0->moviepy) (49.2.1)\n",
      "Requirement already satisfied: charset-normalizer<4,>=2 in c:\\users\\hai\\.pyenv\\pyenv-win\\versions\\3.9.1\\lib\\site-packages (from requests<3,>=2.27->gTTS) (3.3.2)\n",
      "Requirement already satisfied: idna<4,>=2.5 in c:\\users\\hai\\.pyenv\\pyenv-win\\versions\\3.9.1\\lib\\site-packages (from requests<3,>=2.27->gTTS) (2.10)\n",
      "Requirement already satisfied: urllib3<3,>=1.21.1 in c:\\users\\hai\\.pyenv\\pyenv-win\\versions\\3.9.1\\lib\\site-packages (from requests<3,>=2.27->gTTS) (2.2.3)\n",
      "Requirement already satisfied: certifi>=2017.4.17 in c:\\users\\hai\\.pyenv\\pyenv-win\\versions\\3.9.1\\lib\\site-packages (from requests<3,>=2.27->gTTS) (2024.8.30)\n"
     ]
    }
   ],
   "source": [
    "!pip install gTTS gtts moviepy pillow"
   ]
  },
  {
   "cell_type": "code",
   "execution_count": 11,
   "id": "6490a44e-c844-45b1-a662-193ccd1f2a50",
   "metadata": {},
   "outputs": [
    {
     "name": "stdout",
     "output_type": "stream",
     "text": [
      "Requirement already satisfied: gTTS in c:\\users\\hai\\.pyenv\\pyenv-win\\versions\\3.9.1\\lib\\site-packages (2.5.3)\n",
      "Requirement already satisfied: moviepy in c:\\users\\hai\\.pyenv\\pyenv-win\\versions\\3.9.1\\lib\\site-packages (1.0.3)\n",
      "Requirement already satisfied: googletrans==4.0.0-rc1 in c:\\users\\hai\\.pyenv\\pyenv-win\\versions\\3.9.1\\lib\\site-packages (4.0.0rc1)\n",
      "Requirement already satisfied: httpx==0.13.3 in c:\\users\\hai\\.pyenv\\pyenv-win\\versions\\3.9.1\\lib\\site-packages (from googletrans==4.0.0-rc1) (0.13.3)\n",
      "Requirement already satisfied: certifi in c:\\users\\hai\\.pyenv\\pyenv-win\\versions\\3.9.1\\lib\\site-packages (from httpx==0.13.3->googletrans==4.0.0-rc1) (2024.8.30)\n",
      "Requirement already satisfied: hstspreload in c:\\users\\hai\\.pyenv\\pyenv-win\\versions\\3.9.1\\lib\\site-packages (from httpx==0.13.3->googletrans==4.0.0-rc1) (2024.10.1)\n",
      "Requirement already satisfied: sniffio in c:\\users\\hai\\.pyenv\\pyenv-win\\versions\\3.9.1\\lib\\site-packages (from httpx==0.13.3->googletrans==4.0.0-rc1) (1.3.1)\n",
      "Requirement already satisfied: chardet==3.* in c:\\users\\hai\\.pyenv\\pyenv-win\\versions\\3.9.1\\lib\\site-packages (from httpx==0.13.3->googletrans==4.0.0-rc1) (3.0.4)\n",
      "Requirement already satisfied: idna==2.* in c:\\users\\hai\\.pyenv\\pyenv-win\\versions\\3.9.1\\lib\\site-packages (from httpx==0.13.3->googletrans==4.0.0-rc1) (2.10)\n",
      "Requirement already satisfied: rfc3986<2,>=1.3 in c:\\users\\hai\\.pyenv\\pyenv-win\\versions\\3.9.1\\lib\\site-packages (from httpx==0.13.3->googletrans==4.0.0-rc1) (1.5.0)\n",
      "Requirement already satisfied: httpcore==0.9.* in c:\\users\\hai\\.pyenv\\pyenv-win\\versions\\3.9.1\\lib\\site-packages (from httpx==0.13.3->googletrans==4.0.0-rc1) (0.9.1)\n",
      "Requirement already satisfied: h11<0.10,>=0.8 in c:\\users\\hai\\.pyenv\\pyenv-win\\versions\\3.9.1\\lib\\site-packages (from httpcore==0.9.*->httpx==0.13.3->googletrans==4.0.0-rc1) (0.9.0)\n",
      "Requirement already satisfied: h2==3.* in c:\\users\\hai\\.pyenv\\pyenv-win\\versions\\3.9.1\\lib\\site-packages (from httpcore==0.9.*->httpx==0.13.3->googletrans==4.0.0-rc1) (3.2.0)\n",
      "Requirement already satisfied: hyperframe<6,>=5.2.0 in c:\\users\\hai\\.pyenv\\pyenv-win\\versions\\3.9.1\\lib\\site-packages (from h2==3.*->httpcore==0.9.*->httpx==0.13.3->googletrans==4.0.0-rc1) (5.2.0)\n",
      "Requirement already satisfied: hpack<4,>=3.0 in c:\\users\\hai\\.pyenv\\pyenv-win\\versions\\3.9.1\\lib\\site-packages (from h2==3.*->httpcore==0.9.*->httpx==0.13.3->googletrans==4.0.0-rc1) (3.0.0)\n",
      "Requirement already satisfied: requests<3,>=2.27 in c:\\users\\hai\\.pyenv\\pyenv-win\\versions\\3.9.1\\lib\\site-packages (from gTTS) (2.32.3)\n",
      "Requirement already satisfied: click<8.2,>=7.1 in c:\\users\\hai\\.pyenv\\pyenv-win\\versions\\3.9.1\\lib\\site-packages (from gTTS) (8.1.7)\n",
      "Requirement already satisfied: decorator<5.0,>=4.0.2 in c:\\users\\hai\\.pyenv\\pyenv-win\\versions\\3.9.1\\lib\\site-packages (from moviepy) (4.4.2)\n",
      "Requirement already satisfied: tqdm<5.0,>=4.11.2 in c:\\users\\hai\\.pyenv\\pyenv-win\\versions\\3.9.1\\lib\\site-packages (from moviepy) (4.66.5)\n",
      "Requirement already satisfied: proglog<=1.0.0 in c:\\users\\hai\\.pyenv\\pyenv-win\\versions\\3.9.1\\lib\\site-packages (from moviepy) (0.1.10)\n",
      "Requirement already satisfied: numpy>=1.17.3 in c:\\users\\hai\\.pyenv\\pyenv-win\\versions\\3.9.1\\lib\\site-packages (from moviepy) (2.0.2)\n",
      "Requirement already satisfied: imageio<3.0,>=2.5 in c:\\users\\hai\\.pyenv\\pyenv-win\\versions\\3.9.1\\lib\\site-packages (from moviepy) (2.35.1)\n",
      "Requirement already satisfied: imageio-ffmpeg>=0.2.0 in c:\\users\\hai\\.pyenv\\pyenv-win\\versions\\3.9.1\\lib\\site-packages (from moviepy) (0.5.1)\n",
      "Requirement already satisfied: colorama in c:\\users\\hai\\.pyenv\\pyenv-win\\versions\\3.9.1\\lib\\site-packages (from click<8.2,>=7.1->gTTS) (0.4.6)\n",
      "Requirement already satisfied: pillow>=8.3.2 in c:\\users\\hai\\.pyenv\\pyenv-win\\versions\\3.9.1\\lib\\site-packages (from imageio<3.0,>=2.5->moviepy) (10.4.0)\n",
      "Requirement already satisfied: setuptools in c:\\users\\hai\\.pyenv\\pyenv-win\\versions\\3.9.1\\lib\\site-packages (from imageio-ffmpeg>=0.2.0->moviepy) (49.2.1)\n",
      "Requirement already satisfied: charset-normalizer<4,>=2 in c:\\users\\hai\\.pyenv\\pyenv-win\\versions\\3.9.1\\lib\\site-packages (from requests<3,>=2.27->gTTS) (3.3.2)\n",
      "Requirement already satisfied: urllib3<3,>=1.21.1 in c:\\users\\hai\\.pyenv\\pyenv-win\\versions\\3.9.1\\lib\\site-packages (from requests<3,>=2.27->gTTS) (2.2.3)\n",
      "Requirement already satisfied: moviepy in c:\\users\\hai\\.pyenv\\pyenv-win\\versions\\3.9.1\\lib\\site-packages (1.0.3)\n",
      "Requirement already satisfied: Pillow in c:\\users\\hai\\.pyenv\\pyenv-win\\versions\\3.9.1\\lib\\site-packages (10.4.0)\n",
      "Requirement already satisfied: gtts in c:\\users\\hai\\.pyenv\\pyenv-win\\versions\\3.9.1\\lib\\site-packages (2.5.3)\n",
      "Collecting python-dotenv\n",
      "  Using cached python_dotenv-1.0.1-py3-none-any.whl.metadata (23 kB)\n",
      "Requirement already satisfied: requests in c:\\users\\hai\\.pyenv\\pyenv-win\\versions\\3.9.1\\lib\\site-packages (2.32.3)\n",
      "Requirement already satisfied: decorator<5.0,>=4.0.2 in c:\\users\\hai\\.pyenv\\pyenv-win\\versions\\3.9.1\\lib\\site-packages (from moviepy) (4.4.2)\n",
      "Requirement already satisfied: tqdm<5.0,>=4.11.2 in c:\\users\\hai\\.pyenv\\pyenv-win\\versions\\3.9.1\\lib\\site-packages (from moviepy) (4.66.5)\n",
      "Requirement already satisfied: proglog<=1.0.0 in c:\\users\\hai\\.pyenv\\pyenv-win\\versions\\3.9.1\\lib\\site-packages (from moviepy) (0.1.10)\n",
      "Requirement already satisfied: numpy>=1.17.3 in c:\\users\\hai\\.pyenv\\pyenv-win\\versions\\3.9.1\\lib\\site-packages (from moviepy) (2.0.2)\n",
      "Requirement already satisfied: imageio<3.0,>=2.5 in c:\\users\\hai\\.pyenv\\pyenv-win\\versions\\3.9.1\\lib\\site-packages (from moviepy) (2.35.1)\n",
      "Requirement already satisfied: imageio-ffmpeg>=0.2.0 in c:\\users\\hai\\.pyenv\\pyenv-win\\versions\\3.9.1\\lib\\site-packages (from moviepy) (0.5.1)\n",
      "Requirement already satisfied: click<8.2,>=7.1 in c:\\users\\hai\\.pyenv\\pyenv-win\\versions\\3.9.1\\lib\\site-packages (from gtts) (8.1.7)\n",
      "Requirement already satisfied: charset-normalizer<4,>=2 in c:\\users\\hai\\.pyenv\\pyenv-win\\versions\\3.9.1\\lib\\site-packages (from requests) (3.3.2)\n",
      "Requirement already satisfied: idna<4,>=2.5 in c:\\users\\hai\\.pyenv\\pyenv-win\\versions\\3.9.1\\lib\\site-packages (from requests) (2.10)\n",
      "Requirement already satisfied: urllib3<3,>=1.21.1 in c:\\users\\hai\\.pyenv\\pyenv-win\\versions\\3.9.1\\lib\\site-packages (from requests) (2.2.3)\n",
      "Requirement already satisfied: certifi>=2017.4.17 in c:\\users\\hai\\.pyenv\\pyenv-win\\versions\\3.9.1\\lib\\site-packages (from requests) (2024.8.30)\n",
      "Requirement already satisfied: colorama in c:\\users\\hai\\.pyenv\\pyenv-win\\versions\\3.9.1\\lib\\site-packages (from click<8.2,>=7.1->gtts) (0.4.6)\n",
      "Requirement already satisfied: setuptools in c:\\users\\hai\\.pyenv\\pyenv-win\\versions\\3.9.1\\lib\\site-packages (from imageio-ffmpeg>=0.2.0->moviepy) (49.2.1)\n",
      "Downloading python_dotenv-1.0.1-py3-none-any.whl (19 kB)\n",
      "Installing collected packages: python-dotenv\n",
      "Successfully installed python-dotenv-1.0.1\n"
     ]
    }
   ],
   "source": [
    "!pip install gTTS moviepy googletrans==4.0.0-rc1\n",
    "!pip install moviepy Pillow gtts python-dotenv requests\n",
    "\n",
    "\n"
   ]
  },
  {
   "cell_type": "code",
   "execution_count": 12,
   "id": "65c6e718-5202-4a44-883b-0fa04afcbc3a",
   "metadata": {},
   "outputs": [],
   "source": [
    "access_key = \"0nWtnKkQmPN64phVht6dWpW3ubCh_Rh_iWqRD-GIRxE\""
   ]
  },
  {
   "cell_type": "code",
   "execution_count": 17,
   "id": "e6a29e22-5dfb-4de8-8d42-72d9e965a68c",
   "metadata": {},
   "outputs": [
    {
     "name": "stdout",
     "output_type": "stream",
     "text": [
      "Generated Script:\n",
      " Act as an AI anchor and create a light-hearted, funny script for a YouTube video on the topic: Procrastination.\n",
      "\n",
      "1. **Catchy Introduction (30 seconds)**:\n",
      "   Why did the Procrastination cross the road? To get to the other side of the laughter! \n",
      "\n",
      "2. **Main Content (3 minutes)**:\n",
      "   Today, we're diving into the quirky world of Procrastination. Did you know that Procrastination is like a magician? It can make your problems disappear faster than my willpower at a buffet!\n",
      "\n",
      "3. **Interesting Facts (1 minute)**:\n",
      "   Here's a fun fact: Procrastination was actually a secret agent in the 90s. Just kidding! But seriously, did you know that...?\n",
      "\n",
      "4. **Conclusion (30 seconds)**:\n",
      "   So, if you enjoyed this rollercoaster ride through the world of Procrastination, don’t forget to hit like, subscribe, and tell us your own funny Procrastination stories in the comments!\n",
      "    \n",
      "Moviepy - Building video Procrastination_video.mp4.\n",
      "MoviePy - Writing audio in Procrastination_videoTEMP_MPY_wvf_snd.mp3\n"
     ]
    },
    {
     "name": "stderr",
     "output_type": "stream",
     "text": [
      "                                                                                                                       \r"
     ]
    },
    {
     "name": "stdout",
     "output_type": "stream",
     "text": [
      "MoviePy - Done.\n",
      "Moviepy - Writing video Procrastination_video.mp4\n",
      "\n"
     ]
    },
    {
     "name": "stderr",
     "output_type": "stream",
     "text": [
      "                                                                                                                       \r"
     ]
    },
    {
     "name": "stdout",
     "output_type": "stream",
     "text": [
      "Moviepy - Done !\n",
      "Moviepy - video ready Procrastination_video.mp4\n",
      "Video created successfully: Procrastination_video.mp4\n"
     ]
    }
   ],
   "source": [
    "import os\n",
    "import requests\n",
    "from moviepy.editor import *\n",
    "from PIL import Image\n",
    "from gtts import gTTS\n",
    "from dotenv import load_dotenv\n",
    "\n",
    "# Load environment variables from .env file\n",
    "load_dotenv()\n",
    "UNSPLASH_ACCESS_KEY = access_key\n",
    "\n",
    "# Function to generate a funny script for a topic\n",
    "def generate_funny_script(topic):\n",
    "    script = f\"\"\"\\\n",
    "Act as an AI anchor and create a light-hearted, funny script for a YouTube video on the topic: {topic}.\n",
    "\n",
    "1. **Catchy Introduction (30 seconds)**:\n",
    "   Why did the {topic} cross the road? To get to the other side of the laughter! \n",
    "\n",
    "2. **Main Content (3 minutes)**:\n",
    "   Today, we're diving into the quirky world of {topic}. Did you know that {topic} is like a magician? It can make your problems disappear faster than my willpower at a buffet!\n",
    "\n",
    "3. **Interesting Facts (1 minute)**:\n",
    "   Here's a fun fact: {topic} was actually a secret agent in the 90s. Just kidding! But seriously, did you know that...?\n",
    "\n",
    "4. **Conclusion (30 seconds)**:\n",
    "   So, if you enjoyed this rollercoaster ride through the world of {topic}, don’t forget to hit like, subscribe, and tell us your own funny {topic} stories in the comments!\n",
    "    \"\"\"\n",
    "    return script\n",
    "\n",
    "# Function to download images from Unsplash\n",
    "def download_images(topic, num_images=10):\n",
    "    url = f\"https://api.unsplash.com/photos/random?query={topic}&count={num_images}&client_id={UNSPLASH_ACCESS_KEY}\"\n",
    "    response = requests.get(url)\n",
    "    \n",
    "    if response.status_code != 200:\n",
    "        print(f\"Error fetching images: {response.status_code} - {response.text}\")\n",
    "        return\n",
    "    \n",
    "    photos = response.json()\n",
    "    folder = \"downloaded_images\"\n",
    "    os.makedirs(folder, exist_ok=True)\n",
    "    \n",
    "    for photo in photos:\n",
    "        img_url = photo['urls']['raw']\n",
    "        img_response = requests.get(img_url)\n",
    "        img_name = os.path.join(folder, f\"{photo['id']}.jpg\")\n",
    "        with open(img_name, 'wb') as img_file:\n",
    "            img_file.write(img_response.content)\n",
    "\n",
    "# Function to create the video\n",
    "def create_video(script_text, audio_filename, video_filename, music_filename):\n",
    "    # Create a simple video clip for each image\n",
    "    image_clips = []\n",
    "    folder = \"downloaded_images\"\n",
    "    \n",
    "    for img_file in os.listdir(folder):\n",
    "        img_path = os.path.join(folder, img_file)\n",
    "        \n",
    "        # Open and resize the image\n",
    "        with Image.open(img_path) as img:\n",
    "            img = img.resize((1280, 720), Image.LANCZOS)  # Resize to fit video dimensions\n",
    "            img.save(img_path)  # Save the resized image back\n",
    "        \n",
    "        clip = ImageClip(img_path).set_duration(2)  # Show each image for 2 seconds\n",
    "        clip = clip.set_position(\"center\")  # Center the image\n",
    "        image_clips.append(clip)\n",
    "\n",
    "    # Concatenate images into a video\n",
    "    video = concatenate_videoclips(image_clips, method=\"compose\")\n",
    "\n",
    "    # Load audio and set it to the video\n",
    "    audio = AudioFileClip(audio_filename)\n",
    "    background_music = AudioFileClip(music_filename)\n",
    "    final_audio = CompositeAudioClip([audio, background_music.set_duration(video.duration)])  # Mix audio\n",
    "    video = video.set_audio(final_audio)\n",
    "\n",
    "    # Write the result to a file\n",
    "    video.write_videofile(video_filename, fps=24)\n",
    "\n",
    "# Main function to execute the steps\n",
    "def main(topic):\n",
    "    # Step 1: Generate a funny script\n",
    "    script = generate_funny_script(topic)\n",
    "    print(\"Generated Script:\\n\", script)\n",
    "\n",
    "    # Step 2: Download images\n",
    "    download_images(topic)\n",
    "\n",
    "    # Step 3: Generate audio from the script\n",
    "    audio_filename = f\"{topic}_audio.mp3\"\n",
    "    tts = gTTS(text=script, lang='en')\n",
    "    tts.save(audio_filename)\n",
    "\n",
    "    # Step 4: Add random music from your local directory or specify a music file\n",
    "    music_files = [f for f in os.listdir('D:\\\\Rabbani_Projects\\\\youtube_poc\\\\yt_helpers\\\\audios') if f.endswith('.mp3')]\n",
    "    if music_files:\n",
    "        music_filename = os.path.join('D:\\\\Rabbani_Projects\\\\youtube_poc\\\\yt_helpers\\\\audios', music_files[0])\n",
    "    else:\n",
    "        raise FileNotFoundError(\"No music files found in the specified directory.\")\n",
    "\n",
    "    # Step 5: Create the video\n",
    "    video_filename = f\"{topic}_video.mp4\"\n",
    "    create_video(script, audio_filename, video_filename, music_filename)\n",
    "    print(f\"Video created successfully: {video_filename}\")\n",
    "\n",
    "# Example usage\n",
    "if __name__ == \"__main__\":\n",
    "    topic = \"Procrastination\"  # Replace with your desired topic\n",
    "    main(topic)\n"
   ]
  },
  {
   "cell_type": "code",
   "execution_count": 19,
   "id": "c05b4366-c866-4345-93bd-194fb9f2b994",
   "metadata": {},
   "outputs": [
    {
     "name": "stdout",
     "output_type": "stream",
     "text": [
      "Generated Script:\n",
      " Act as an AI anchor and create a light-hearted, funny script for a YouTube video on the topic: Procrastination.\n",
      "\n",
      "1. **Catchy Introduction (30 seconds)**:\n",
      "   Why did the Procrastination cross the road? To get to the other side of the laughter! \n",
      "\n",
      "2. **Main Content (3 minutes)**:\n",
      "   Today, we're diving into the quirky world of Procrastination. Did you know that Procrastination is like a magician? It can make your problems disappear faster than my willpower at a buffet!\n",
      "\n",
      "3. **Interesting Facts (1 minute)**:\n",
      "   Here's a fun fact: Procrastination was actually a secret agent in the 90s. Just kidding! But seriously, did you know that...?\n",
      "\n",
      "4. **Conclusion (30 seconds)**:\n",
      "   So, if you enjoyed this rollercoaster ride through the world of Procrastination, don’t forget to hit like, subscribe, and tell us your own funny Procrastination stories in the comments!\n",
      "    \n",
      "Moviepy - Building video Procrastination_video.mp4.\n",
      "MoviePy - Writing audio in Procrastination_videoTEMP_MPY_wvf_snd.mp3\n"
     ]
    },
    {
     "name": "stderr",
     "output_type": "stream",
     "text": [
      "                                                                                                                       \r"
     ]
    },
    {
     "name": "stdout",
     "output_type": "stream",
     "text": [
      "MoviePy - Done.\n",
      "Moviepy - Writing video Procrastination_video.mp4\n",
      "\n"
     ]
    },
    {
     "name": "stderr",
     "output_type": "stream",
     "text": [
      "                                                                                                                       \r"
     ]
    },
    {
     "name": "stdout",
     "output_type": "stream",
     "text": [
      "Moviepy - Done !\n",
      "Moviepy - video ready Procrastination_video.mp4\n",
      "Video created successfully: Procrastination_video.mp4\n"
     ]
    }
   ],
   "source": [
    "import os\n",
    "import requests\n",
    "from moviepy.editor import *\n",
    "from PIL import Image\n",
    "from gtts import gTTS\n",
    "from dotenv import load_dotenv\n",
    "\n",
    "# Load environment variables from .env file\n",
    "load_dotenv()\n",
    "UNSPLASH_ACCESS_KEY = access_key  # Make sure to load the access key correctly\n",
    "\n",
    "# Function to generate a funny script for a topic\n",
    "def generate_funny_script(topic):\n",
    "    script = f\"\"\"\\\n",
    "Act as an AI anchor and create a light-hearted, funny script for a YouTube video on the topic: {topic}.\n",
    "\n",
    "1. **Catchy Introduction (30 seconds)**:\n",
    "   Why did the {topic} cross the road? To get to the other side of the laughter! \n",
    "\n",
    "2. **Main Content (3 minutes)**:\n",
    "   Today, we're diving into the quirky world of {topic}. Did you know that {topic} is like a magician? It can make your problems disappear faster than my willpower at a buffet!\n",
    "\n",
    "3. **Interesting Facts (1 minute)**:\n",
    "   Here's a fun fact: {topic} was actually a secret agent in the 90s. Just kidding! But seriously, did you know that...?\n",
    "\n",
    "4. **Conclusion (30 seconds)**:\n",
    "   So, if you enjoyed this rollercoaster ride through the world of {topic}, don’t forget to hit like, subscribe, and tell us your own funny {topic} stories in the comments!\n",
    "    \"\"\"\n",
    "    return script\n",
    "\n",
    "# Function to download images from Unsplash\n",
    "def download_images(topic, num_images=10):\n",
    "    url = f\"https://api.unsplash.com/photos/random?query={topic}&count={num_images}&client_id={UNSPLASH_ACCESS_KEY}\"\n",
    "    response = requests.get(url)\n",
    "    \n",
    "    if response.status_code != 200:\n",
    "        print(f\"Error fetching images: {response.status_code} - {response.text}\")\n",
    "        return\n",
    "    \n",
    "    photos = response.json()\n",
    "    folder = \"downloaded_images\"\n",
    "    os.makedirs(folder, exist_ok=True)\n",
    "    \n",
    "    for photo in photos:\n",
    "        img_url = photo['urls']['raw']\n",
    "        img_response = requests.get(img_url)\n",
    "        img_name = os.path.join(folder, f\"{photo['id']}.jpg\")\n",
    "        with open(img_name, 'wb') as img_file:\n",
    "            img_file.write(img_response.content)\n",
    "\n",
    "# Function to create the video\n",
    "def create_video(script_text, audio_filename, video_filename, music_filename):\n",
    "    # Create a simple video clip for each image\n",
    "    image_clips = []\n",
    "    folder = \"downloaded_images\"\n",
    "    \n",
    "    for img_file in os.listdir(folder):\n",
    "        img_path = os.path.join(folder, img_file)\n",
    "        \n",
    "        # Open and resize the image\n",
    "        with Image.open(img_path) as img:\n",
    "            img = img.resize((1280, 720), Image.LANCZOS)  # Resize to fit video dimensions\n",
    "            img.save(img_path)  # Save the resized image back\n",
    "        \n",
    "        clip = ImageClip(img_path).set_duration(2)  # Show each image for 2 seconds\n",
    "        clip = clip.set_position(\"center\")  # Center the image\n",
    "        image_clips.append(clip)\n",
    "\n",
    "    # Concatenate images into a video\n",
    "    video = concatenate_videoclips(image_clips, method=\"compose\")\n",
    "\n",
    "    # Load audio and set it to the video\n",
    "    audio = AudioFileClip(audio_filename).volumex(1.0)  # Set the volume for the narration\n",
    "    background_music = AudioFileClip(music_filename).volumex(0.3)  # Lower the volume of the background music\n",
    "    final_audio = CompositeAudioClip([audio, background_music.set_duration(video.duration)])  # Mix audio\n",
    "    video = video.set_audio(final_audio)\n",
    "\n",
    "    # Write the result to a file\n",
    "    video.write_videofile(video_filename, fps=24)\n",
    "\n",
    "# Main function to execute the steps\n",
    "def main(topic):\n",
    "    # Step 1: Generate a funny script\n",
    "    script = generate_funny_script(topic)\n",
    "    print(\"Generated Script:\\n\", script)\n",
    "\n",
    "    # Step 2: Download images\n",
    "    download_images(topic)\n",
    "\n",
    "    # Step 3: Generate audio from the script\n",
    "    audio_filename = f\"{topic}_audio.mp3\"\n",
    "    tts = gTTS(text=script, lang='en')\n",
    "    tts.save(audio_filename)\n",
    "\n",
    "    # Step 4: Add random music from your local directory or specify a music file\n",
    "    music_files = [f for f in os.listdir('D:\\\\Rabbani_Projects\\\\youtube_poc\\\\yt_helpers\\\\audios') if f.endswith('.mp3')]\n",
    "    if music_files:\n",
    "        music_filename = os.path.join('D:\\\\Rabbani_Projects\\\\youtube_poc\\\\yt_helpers\\\\audios', music_files[0])\n",
    "    else:\n",
    "        raise FileNotFoundError(\"No music files found in the specified directory.\")\n",
    "\n",
    "    # Step 5: Create the video\n",
    "    video_filename = f\"{topic}_video.mp4\"\n",
    "    create_video(script, audio_filename, video_filename, music_filename)\n",
    "    print(f\"Video created successfully: {video_filename}\")\n",
    "\n",
    "# Example usage\n",
    "if __name__ == \"__main__\":\n",
    "    topic = \"Procrastination\"  # Replace with your desired topic\n",
    "    main(topic)\n"
   ]
  },
  {
   "cell_type": "code",
   "execution_count": 23,
   "id": "c5bd8dad-9359-4f62-9872-dc4831d113e2",
   "metadata": {},
   "outputs": [
    {
     "name": "stdout",
     "output_type": "stream",
     "text": [
      "Generated Script:\n",
      " Act as an AI anchor and create a light-hearted, funny script for a YouTube video on the topic: Procrastination.\n",
      "\n",
      "1. **Catchy Introduction (30 seconds)**:\n",
      "   Why did the Procrastination cross the road? To get to the other side of the laughter! \n",
      "\n",
      "2. **Main Content (3 minutes)**:\n",
      "   Today, we're diving into the quirky world of Procrastination. Did you know that Procrastination is like a magician? It can make your problems disappear faster than my willpower at a buffet!\n",
      "\n",
      "3. **Interesting Facts (1 minute)**:\n",
      "   Here's a fun fact: Procrastination was actually a secret agent in the 90s. Just kidding! But seriously, did you know that...?\n",
      "\n",
      "4. **Conclusion (30 seconds)**:\n",
      "   So, if you enjoyed this rollercoaster ride through the world of Procrastination, don’t forget to hit like, subscribe, and tell us your own funny Procrastination stories in the comments!\n",
      "    \n",
      "Skipping non-image file: Procrastination_audio.mp3\n",
      "Skipping non-image file: Procrastination_video.mp4\n",
      "Moviepy - Building video resources/Procrastination\\Procrastination_video.mp4.\n",
      "MoviePy - Writing audio in Procrastination_videoTEMP_MPY_wvf_snd.mp3\n"
     ]
    },
    {
     "name": "stderr",
     "output_type": "stream",
     "text": [
      "                                                                                                                       \r"
     ]
    },
    {
     "name": "stdout",
     "output_type": "stream",
     "text": [
      "MoviePy - Done.\n",
      "Moviepy - Writing video resources/Procrastination\\Procrastination_video.mp4\n",
      "\n"
     ]
    },
    {
     "name": "stderr",
     "output_type": "stream",
     "text": [
      "                                                                                                                       \r"
     ]
    },
    {
     "name": "stdout",
     "output_type": "stream",
     "text": [
      "Moviepy - Done !\n",
      "Moviepy - video ready resources/Procrastination\\Procrastination_video.mp4\n",
      "Video created successfully: resources/Procrastination\\Procrastination_video.mp4\n"
     ]
    }
   ],
   "source": [
    "import os\n",
    "import requests\n",
    "from moviepy.editor import *\n",
    "from PIL import Image\n",
    "from gtts import gTTS\n",
    "from dotenv import load_dotenv\n",
    "\n",
    "# Load environment variables from .env file\n",
    "load_dotenv()\n",
    "UNSPLASH_ACCESS_KEY = access_key\n",
    "\n",
    "# Function to generate a funny script for a topic\n",
    "def generate_funny_script(topic):\n",
    "    script = f\"\"\"\\\n",
    "Act as an AI anchor and create a light-hearted, funny script for a YouTube video on the topic: {topic}.\n",
    "\n",
    "1. **Catchy Introduction (30 seconds)**:\n",
    "   Why did the {topic} cross the road? To get to the other side of the laughter! \n",
    "\n",
    "2. **Main Content (3 minutes)**:\n",
    "   Today, we're diving into the quirky world of {topic}. Did you know that {topic} is like a magician? It can make your problems disappear faster than my willpower at a buffet!\n",
    "\n",
    "3. **Interesting Facts (1 minute)**:\n",
    "   Here's a fun fact: {topic} was actually a secret agent in the 90s. Just kidding! But seriously, did you know that...?\n",
    "\n",
    "4. **Conclusion (30 seconds)**:\n",
    "   So, if you enjoyed this rollercoaster ride through the world of {topic}, don’t forget to hit like, subscribe, and tell us your own funny {topic} stories in the comments!\n",
    "    \"\"\"\n",
    "    return script\n",
    "\n",
    "# Function to download images from Unsplash\n",
    "def download_images(topic, num_images=10):\n",
    "    url = f\"https://api.unsplash.com/photos/random?query={topic}&count={num_images}&client_id={UNSPLASH_ACCESS_KEY}\"\n",
    "    response = requests.get(url)\n",
    "    \n",
    "    if response.status_code != 200:\n",
    "        print(f\"Error fetching images: {response.status_code} - {response.text}\")\n",
    "        return\n",
    "    \n",
    "    photos = response.json()\n",
    "    folder = f\"resources/{topic}\"\n",
    "    os.makedirs(folder, exist_ok=True)\n",
    "    \n",
    "    for photo in photos:\n",
    "        img_url = photo['urls']['raw']\n",
    "        img_response = requests.get(img_url)\n",
    "        img_name = os.path.join(folder, f\"{photo['id']}.jpg\")\n",
    "        with open(img_name, 'wb') as img_file:\n",
    "            img_file.write(img_response.content)\n",
    "\n",
    "# Function to create the video\n",
    "def create_video(script_text, audio_filename, video_filename, music_filename, topic):\n",
    "    # Create a simple video clip for each image\n",
    "    image_clips = []\n",
    "    folder = f\"resources/{topic}\"  # Use the topic folder\n",
    "    \n",
    "    for img_file in os.listdir(folder):\n",
    "        img_path = os.path.join(folder, img_file)\n",
    "        \n",
    "        # Check if the file is an image\n",
    "        if img_file.lower().endswith(('.png', '.jpg', '.jpeg', '.gif', '.bmp')):\n",
    "            # Open and resize the image\n",
    "            with Image.open(img_path) as img:\n",
    "                img = img.resize((1280, 720), Image.LANCZOS)  # Resize to fit video dimensions\n",
    "                img.save(img_path)  # Save the resized image back\n",
    "            \n",
    "            clip = ImageClip(img_path).set_duration(2)  # Show each image for 2 seconds\n",
    "            clip = clip.set_position(\"center\")  # Center the image\n",
    "            image_clips.append(clip)\n",
    "        else:\n",
    "            print(f\"Skipping non-image file: {img_file}\")\n",
    "\n",
    "    if not image_clips:\n",
    "        raise ValueError(\"No valid image files found in the specified directory.\")\n",
    "\n",
    "    # Concatenate images into a video\n",
    "    video = concatenate_videoclips(image_clips, method=\"compose\")\n",
    "\n",
    "    # Load audio and set it to the video\n",
    "    audio = AudioFileClip(audio_filename).volumex(1.0)  # Set the volume for the narration\n",
    "    background_music = AudioFileClip(music_filename).volumex(0.3)  # Lower the volume of the background music\n",
    "    final_audio = CompositeAudioClip([audio, background_music.set_duration(video.duration)])  # Mix audio\n",
    "    video = video.set_audio(final_audio)\n",
    "\n",
    "    # Write the result to a file\n",
    "    video.write_videofile(video_filename, fps=24)\n",
    "\n",
    "# Main function to execute the steps\n",
    "def main(topic):\n",
    "    # Step 1: Generate a funny script\n",
    "    script = generate_funny_script(topic)\n",
    "    print(\"Generated Script:\\n\", script)\n",
    "\n",
    "    # Step 2: Download images\n",
    "    download_images(topic)\n",
    "\n",
    "    # Step 3: Generate audio from the script\n",
    "    audio_filename = os.path.join(f\"resources/{topic}\", f\"{topic}_audio.mp3\")\n",
    "    tts = gTTS(text=script, lang='en')\n",
    "    tts.save(audio_filename)\n",
    "\n",
    "    # Step 4: Add random music from your local directory or specify a music file\n",
    "    music_files = [f for f in os.listdir('D:\\\\Rabbani_Projects\\\\youtube_poc\\\\yt_helpers\\\\audios') if f.endswith('.mp3')]\n",
    "    if music_files:\n",
    "        music_filename = os.path.join('D:\\\\Rabbani_Projects\\\\youtube_poc\\\\yt_helpers\\\\audios', music_files[0])\n",
    "    else:\n",
    "        raise FileNotFoundError(\"No music files found in the specified directory.\")\n",
    "\n",
    "    # Step 5: Create the video\n",
    "    video_filename = os.path.join(f\"resources/{topic}\", f\"{topic}_video.mp4\")\n",
    "    create_video(script, audio_filename, video_filename, music_filename, topic)\n",
    "    print(f\"Video created successfully: {video_filename}\")\n",
    "\n",
    "# Example usage\n",
    "if __name__ == \"__main__\":\n",
    "    topic = \"Procrastination\"  # Replace with your desired topic\n",
    "    main(topic)\n"
   ]
  },
  {
   "cell_type": "code",
   "execution_count": 13,
   "id": "623fae2f-d083-454f-9f8c-aa4d4fdeeeb4",
   "metadata": {},
   "outputs": [
    {
     "name": "stdout",
     "output_type": "stream",
     "text": [
      "Generating video in en...\n",
      "Generated Script:\n",
      " \n",
      "        Title: World War III: The Ultimate Comedy Showdown\n",
      "\n",
      "        \"Hey there, folks! Why did World War III cross the road? To get to the other side of the laughter! \n",
      "        But seriously, today we’re diving into the wacky world of World War III! \n",
      "        Now, before you grab your survival gear, let’s explore this topic with a sense of humor, \n",
      "        because laughter is the best way to cope, right?\"\n",
      "        \n",
      "Images already downloaded for World War III. Using existing images.\n",
      "MoviePy - Writing audio in resources/World War III/World War III_audio_en_adjusted.mp3\n"
     ]
    },
    {
     "name": "stderr",
     "output_type": "stream",
     "text": [
      "                                                                                                                       \r"
     ]
    },
    {
     "name": "stdout",
     "output_type": "stream",
     "text": [
      "MoviePy - Done.\n",
      "Moviepy - Building video resources/World War III/World War III_video_en.mp4.\n",
      "MoviePy - Writing audio in World War III_video_enTEMP_MPY_wvf_snd.mp3\n"
     ]
    },
    {
     "name": "stderr",
     "output_type": "stream",
     "text": [
      "                                                                                                                       \r"
     ]
    },
    {
     "name": "stdout",
     "output_type": "stream",
     "text": [
      "MoviePy - Done.\n",
      "Moviepy - Writing video resources/World War III/World War III_video_en.mp4\n",
      "\n"
     ]
    },
    {
     "name": "stderr",
     "output_type": "stream",
     "text": [
      "                                                                                                                       \r"
     ]
    },
    {
     "name": "stdout",
     "output_type": "stream",
     "text": [
      "Moviepy - Done !\n",
      "Moviepy - video ready resources/World War III/World War III_video_en.mp4\n",
      "Video created successfully: resources/World War III/World War III_video_en.mp4\n",
      "Generating video in hi...\n",
      "Generated Script:\n",
      " \n",
      "        शीर्षक: विश्व युद्ध III: अंतिम कॉमेडी शोडाउन\n",
      "\n",
      "        \"नमस्ते दोस्तों! विश्व युद्ध III ने सड़क क्यों पार की? हंसी के दूसरी ओर जाने के लिए! \n",
      "        लेकिन गंभीरता से, आज हम विश्व युद्ध III की मजेदार दुनिया में गोता लगाने जा रहे हैं! \n",
      "        अब, इससे पहले कि आप अपने बचे हुए सामान को उठाएँ, चलो इस विषय का एक हल्के मन से अन्वेषण करते हैं, \n",
      "        क्योंकि हंसी सबसे अच्छी दवा है, है ना?\"\n",
      "        \n",
      "Images already downloaded for World War III. Using existing images.\n",
      "MoviePy - Writing audio in resources/World War III/World War III_audio_hi_adjusted.mp3\n"
     ]
    },
    {
     "name": "stderr",
     "output_type": "stream",
     "text": [
      "                                                                                                                       \r"
     ]
    },
    {
     "name": "stdout",
     "output_type": "stream",
     "text": [
      "MoviePy - Done.\n",
      "Moviepy - Building video resources/World War III/World War III_video_hi.mp4.\n",
      "MoviePy - Writing audio in World War III_video_hiTEMP_MPY_wvf_snd.mp3\n"
     ]
    },
    {
     "name": "stderr",
     "output_type": "stream",
     "text": [
      "                                                                                                                       \r"
     ]
    },
    {
     "name": "stdout",
     "output_type": "stream",
     "text": [
      "MoviePy - Done.\n",
      "Moviepy - Writing video resources/World War III/World War III_video_hi.mp4\n",
      "\n"
     ]
    },
    {
     "name": "stderr",
     "output_type": "stream",
     "text": [
      "                                                                                                                       \r"
     ]
    },
    {
     "name": "stdout",
     "output_type": "stream",
     "text": [
      "Moviepy - Done !\n",
      "Moviepy - video ready resources/World War III/World War III_video_hi.mp4\n",
      "Video created successfully: resources/World War III/World War III_video_hi.mp4\n",
      "Generating video in te...\n",
      "Generated Script:\n",
      " \n",
      "        శీర్షిక: ప్రపంచ యుద్ధం III: అఖరి కామెడీ షో డౌన్\n",
      "\n",
      "        \"హాయ్ మిత్రులు! ప్రపంచ యుద్ధం III వీధి ఎందుకు దాటింది? \n",
      "        నవ్వుల దిశగా వెళ్ళడానికి! కానీ గంభీరీకరంగా చెప్పాలంటే, \n",
      "        ఈ రోజు మనం ప్రపంచ యుద్ధం III యొక్క విచిత్రమైన ప్రపంచంలోకి అడుగు పెట్టబోతున్నాం!\"\n",
      "        \n",
      "Images already downloaded for World War III. Using existing images.\n",
      "MoviePy - Writing audio in resources/World War III/World War III_audio_te_adjusted.mp3\n"
     ]
    },
    {
     "name": "stderr",
     "output_type": "stream",
     "text": [
      "                                                                                                                       \r"
     ]
    },
    {
     "name": "stdout",
     "output_type": "stream",
     "text": [
      "MoviePy - Done.\n",
      "Moviepy - Building video resources/World War III/World War III_video_te.mp4.\n",
      "MoviePy - Writing audio in World War III_video_teTEMP_MPY_wvf_snd.mp3\n"
     ]
    },
    {
     "name": "stderr",
     "output_type": "stream",
     "text": [
      "                                                                                                                       \r"
     ]
    },
    {
     "name": "stdout",
     "output_type": "stream",
     "text": [
      "MoviePy - Done.\n",
      "Moviepy - Writing video resources/World War III/World War III_video_te.mp4\n",
      "\n"
     ]
    },
    {
     "name": "stderr",
     "output_type": "stream",
     "text": [
      "                                                                                                                       \r"
     ]
    },
    {
     "name": "stdout",
     "output_type": "stream",
     "text": [
      "Moviepy - Done !\n",
      "Moviepy - video ready resources/World War III/World War III_video_te.mp4\n",
      "Video created successfully: resources/World War III/World War III_video_te.mp4\n"
     ]
    }
   ],
   "source": [
    "import os\n",
    "import requests\n",
    "from moviepy.editor import *\n",
    "from PIL import Image\n",
    "from gtts import gTTS\n",
    "from dotenv import load_dotenv\n",
    "\n",
    "# Load environment variables from .env file\n",
    "load_dotenv()\n",
    "UNSPLASH_ACCESS_KEY = os.getenv('UNSPLASH_ACCESS_KEY')\n",
    "\n",
    "# Function to generate a funny script for a topic in different languages\n",
    "def generate_funny_script(topic, lang):\n",
    "    scripts = {\n",
    "        'en': f\"\"\"\n",
    "        Title: World War III: The Ultimate Comedy Showdown\n",
    "\n",
    "        \"Hey there, folks! Why did World War III cross the road? To get to the other side of the laughter! \n",
    "        But seriously, today we’re diving into the wacky world of World War III! \n",
    "        Now, before you grab your survival gear, let’s explore this topic with a sense of humor, \n",
    "        because laughter is the best way to cope, right?\"\n",
    "        \"\"\",\n",
    "        'hi': f\"\"\"\n",
    "        शीर्षक: विश्व युद्ध III: अंतिम कॉमेडी शोडाउन\n",
    "\n",
    "        \"नमस्ते दोस्तों! विश्व युद्ध III ने सड़क क्यों पार की? हंसी के दूसरी ओर जाने के लिए! \n",
    "        लेकिन गंभीरता से, आज हम विश्व युद्ध III की मजेदार दुनिया में गोता लगाने जा रहे हैं! \n",
    "        अब, इससे पहले कि आप अपने बचे हुए सामान को उठाएँ, चलो इस विषय का एक हल्के मन से अन्वेषण करते हैं, \n",
    "        क्योंकि हंसी सबसे अच्छी दवा है, है ना?\"\n",
    "        \"\"\",\n",
    "        'te': f\"\"\"\n",
    "        శీర్షిక: ప్రపంచ యుద్ధం III: అఖరి కామెడీ షో డౌన్\n",
    "\n",
    "        \"హాయ్ మిత్రులు! ప్రపంచ యుద్ధం III వీధి ఎందుకు దాటింది? \n",
    "        నవ్వుల దిశగా వెళ్ళడానికి! కానీ గంభీరీకరంగా చెప్పాలంటే, \n",
    "        ఈ రోజు మనం ప్రపంచ యుద్ధం III యొక్క విచిత్రమైన ప్రపంచంలోకి అడుగు పెట్టబోతున్నాం!\"\n",
    "        \"\"\",\n",
    "        # Add more languages as needed\n",
    "    }\n",
    "    \n",
    "    return scripts.get(lang, scripts['en'])  # Default to English if language not found\n",
    "\n",
    "# Function to download images from Unsplash\n",
    "def download_images(topic, num_images=10):\n",
    "    folder = f\"resources/{topic}/images\"\n",
    "    os.makedirs(folder, exist_ok=True)\n",
    "    \n",
    "    # Check if images already exist\n",
    "    existing_images = set(os.listdir(folder))\n",
    "    \n",
    "    if len(existing_images) >= num_images:\n",
    "        print(f\"Images already downloaded for {topic}. Using existing images.\")\n",
    "        return\n",
    "    \n",
    "    url = f\"https://api.unsplash.com/photos/random?query={topic}&count={num_images}&client_id={UNSPLASH_ACCESS_KEY}\"\n",
    "    response = requests.get(url)\n",
    "    \n",
    "    if response.status_code != 200:\n",
    "        print(f\"Error fetching images: {response.status_code} - {response.text}\")\n",
    "        return\n",
    "    \n",
    "    photos = response.json()\n",
    "    \n",
    "    for photo in photos:\n",
    "        img_url = photo['urls']['raw']\n",
    "        img_response = requests.get(img_url)\n",
    "        img_name = os.path.join(folder, f\"{photo['id']}.jpg\")\n",
    "        with open(img_name, 'wb') as img_file:\n",
    "            img_file.write(img_response.content)\n",
    "\n",
    "# Function to clean and adjust audio\n",
    "def clean_and_adjust_audio(audio_filename):\n",
    "    # Load audio\n",
    "    audio = AudioFileClip(audio_filename)\n",
    "\n",
    "    # Increase volume\n",
    "    audio = audio.volumex(2.0)  # Increase volume by a factor of 2\n",
    "\n",
    "    # Save the adjusted audio\n",
    "    adjusted_audio_filename = audio_filename.replace('.mp3', '_adjusted.mp3')\n",
    "    audio.write_audiofile(adjusted_audio_filename, codec='mp3')\n",
    "    \n",
    "    return adjusted_audio_filename\n",
    "\n",
    "# Function to create the video\n",
    "def create_video(script_text, audio_filename, video_filename):\n",
    "    # Create a simple video clip for each image\n",
    "    image_clips = []\n",
    "    folder = f\"resources/{topic}/images\"\n",
    "    \n",
    "    for img_file in os.listdir(folder):\n",
    "        img_path = os.path.join(folder, img_file)\n",
    "        \n",
    "        # Open and resize the image\n",
    "        with Image.open(img_path) as img:\n",
    "            img = img.resize((1280, 720), Image.LANCZOS)  # Resize to fit video dimensions\n",
    "            img.save(img_path)  # Save the resized image back\n",
    "        \n",
    "        clip = ImageClip(img_path).set_duration(2)  # Show each image for 2 seconds\n",
    "        clip = clip.set_position(\"center\")  # Center the image\n",
    "        image_clips.append(clip)\n",
    "\n",
    "    # Concatenate images into a video\n",
    "    video = concatenate_videoclips(image_clips, method=\"compose\")\n",
    "\n",
    "    # Load audio and set it to the video\n",
    "    audio = AudioFileClip(audio_filename)\n",
    "    video = video.set_audio(audio)\n",
    "\n",
    "    # Write the result to a file\n",
    "    video.write_videofile(video_filename, fps=24)\n",
    "\n",
    "# Main function to execute the steps\n",
    "def main(topic, languages):\n",
    "    for lang in languages:\n",
    "        print(f\"Generating video in {lang}...\")\n",
    "\n",
    "        # Step 1: Generate a funny script in the specified language\n",
    "        script = generate_funny_script(topic, lang)\n",
    "        print(\"Generated Script:\\n\", script)\n",
    "\n",
    "        # Step 2: Download images\n",
    "        download_images(topic)\n",
    "\n",
    "        # Step 3: Generate audio from the script\n",
    "        audio_filename = f\"resources/{topic}/{topic}_audio_{lang}.mp3\"\n",
    "        tts = gTTS(text=script, lang=lang)\n",
    "        tts.save(audio_filename)\n",
    "\n",
    "        # Clean and adjust the audio after saving\n",
    "        audio_filename = clean_and_adjust_audio(audio_filename)\n",
    "\n",
    "        # Step 4: Create the video\n",
    "        video_filename = f\"resources/{topic}/{topic}_video_{lang}.mp4\"\n",
    "        create_video(script, audio_filename, video_filename)\n",
    "        print(f\"Video created successfully: {video_filename}\")\n",
    "\n",
    "# Example usage\n",
    "if __name__ == \"__main__\":\n",
    "    topic = \"World War III\"  # Replace with your desired topic\n",
    "    languages = ['en', 'hi', 'te']  # List of language codes\n",
    "    main(topic, languages)\n"
   ]
  },
  {
   "cell_type": "code",
   "execution_count": 15,
   "id": "21871153-aecb-40dc-a793-7db3da8aa5be",
   "metadata": {},
   "outputs": [
    {
     "name": "stdout",
     "output_type": "stream",
     "text": [
      "Generating video in en...\n",
      "Generated Script:\n",
      " \n",
      "        Title: World War III: The Ultimate Comedy Showdown\n",
      "\n",
      "        \"Hey there, folks! Why did World War III cross the road? To get to the other side of the laughter! \n",
      "        But seriously, today we’re diving into the wacky world of World War III! \n",
      "        Now, before you grab your survival gear, let’s explore this topic with a sense of humor, \n",
      "        because laughter is the best way to cope, right?\"\n",
      "        \n",
      "Images already downloaded for World War III. Using existing images.\n",
      "MoviePy - Writing audio in resources/World War III/World War III_audio_en_adjusted.mp3\n"
     ]
    },
    {
     "name": "stderr",
     "output_type": "stream",
     "text": [
      "                                                                                                                       \r"
     ]
    },
    {
     "name": "stdout",
     "output_type": "stream",
     "text": [
      "MoviePy - Done.\n",
      "Moviepy - Building video resources/World War III/World War III_video_en.mp4.\n",
      "MoviePy - Writing audio in World War III_video_enTEMP_MPY_wvf_snd.mp3\n"
     ]
    },
    {
     "name": "stderr",
     "output_type": "stream",
     "text": [
      "                                                                                                                       \r"
     ]
    },
    {
     "name": "stdout",
     "output_type": "stream",
     "text": [
      "MoviePy - Done.\n",
      "Moviepy - Writing video resources/World War III/World War III_video_en.mp4\n",
      "\n"
     ]
    },
    {
     "name": "stderr",
     "output_type": "stream",
     "text": [
      "                                                                                                                       \r"
     ]
    },
    {
     "name": "stdout",
     "output_type": "stream",
     "text": [
      "Moviepy - Done !\n",
      "Moviepy - video ready resources/World War III/World War III_video_en.mp4\n",
      "Video created successfully: resources/World War III/World War III_video_en.mp4\n",
      "Generating video in hi...\n",
      "Generated Script:\n",
      " \n",
      "        शीर्षक: विश्व युद्ध III: अंतिम कॉमेडी शोडाउन\n",
      "\n",
      "        \"नमस्ते दोस्तों! विश्व युद्ध III ने सड़क क्यों पार की? हंसी के दूसरी ओर जाने के लिए! \n",
      "        लेकिन गंभीरता से, आज हम विश्व युद्ध III की मजेदार दुनिया में गोता लगाने जा रहे हैं! \n",
      "        अब, इससे पहले कि आप अपने बचे हुए सामान को उठाएँ, चलो इस विषय का एक हल्के मन से अन्वेषण करते हैं, \n",
      "        क्योंकि हंसी सबसे अच्छी दवा है, है ना?\"\n",
      "        \n",
      "Images already downloaded for World War III. Using existing images.\n",
      "MoviePy - Writing audio in resources/World War III/World War III_audio_hi_adjusted.mp3\n"
     ]
    },
    {
     "name": "stderr",
     "output_type": "stream",
     "text": [
      "                                                                                                                       \r"
     ]
    },
    {
     "name": "stdout",
     "output_type": "stream",
     "text": [
      "MoviePy - Done.\n",
      "Moviepy - Building video resources/World War III/World War III_video_hi.mp4.\n",
      "MoviePy - Writing audio in World War III_video_hiTEMP_MPY_wvf_snd.mp3\n"
     ]
    },
    {
     "name": "stderr",
     "output_type": "stream",
     "text": [
      "                                                                                                                       \r"
     ]
    },
    {
     "name": "stdout",
     "output_type": "stream",
     "text": [
      "MoviePy - Done.\n",
      "Moviepy - Writing video resources/World War III/World War III_video_hi.mp4\n",
      "\n"
     ]
    },
    {
     "name": "stderr",
     "output_type": "stream",
     "text": [
      "                                                                                                                       \r"
     ]
    },
    {
     "name": "stdout",
     "output_type": "stream",
     "text": [
      "Moviepy - Done !\n",
      "Moviepy - video ready resources/World War III/World War III_video_hi.mp4\n",
      "Video created successfully: resources/World War III/World War III_video_hi.mp4\n",
      "Generating video in te...\n",
      "Generated Script:\n",
      " \n",
      "        శీర్షిక: ప్రపంచ యుద్ధం III: అఖరి కామెడీ షో డౌన్\n",
      "\n",
      "        \"హాయ్ మిత్రులు! ప్రపంచ యుద్ధం III వీధి ఎందుకు దాటింది? \n",
      "        నవ్వుల దిశగా వెళ్ళడానికి! కానీ గంభీరీకరంగా చెప్పాలంటే, \n",
      "        ఈ రోజు మనం ప్రపంచ యుద్ధం III యొక్క విచిత్రమైన ప్రపంచంలోకి అడుగు పెట్టబోతున్నాం!\"\n",
      "        \n",
      "Images already downloaded for World War III. Using existing images.\n",
      "MoviePy - Writing audio in resources/World War III/World War III_audio_te_adjusted.mp3\n"
     ]
    },
    {
     "name": "stderr",
     "output_type": "stream",
     "text": [
      "                                                                                                                       \r"
     ]
    },
    {
     "name": "stdout",
     "output_type": "stream",
     "text": [
      "MoviePy - Done.\n",
      "Moviepy - Building video resources/World War III/World War III_video_te.mp4.\n",
      "MoviePy - Writing audio in World War III_video_teTEMP_MPY_wvf_snd.mp3\n"
     ]
    },
    {
     "name": "stderr",
     "output_type": "stream",
     "text": [
      "                                                                                                                       \r"
     ]
    },
    {
     "name": "stdout",
     "output_type": "stream",
     "text": [
      "MoviePy - Done.\n",
      "Moviepy - Writing video resources/World War III/World War III_video_te.mp4\n",
      "\n"
     ]
    },
    {
     "name": "stderr",
     "output_type": "stream",
     "text": [
      "                                                                                                                       \r"
     ]
    },
    {
     "name": "stdout",
     "output_type": "stream",
     "text": [
      "Moviepy - Done !\n",
      "Moviepy - video ready resources/World War III/World War III_video_te.mp4\n",
      "Video created successfully: resources/World War III/World War III_video_te.mp4\n"
     ]
    }
   ],
   "source": [
    "import os\n",
    "import random\n",
    "import requests\n",
    "from moviepy.editor import *\n",
    "from PIL import Image\n",
    "from gtts import gTTS\n",
    "from dotenv import load_dotenv\n",
    "\n",
    "# Load environment variables from .env file\n",
    "load_dotenv()\n",
    "UNSPLASH_ACCESS_KEY = os.getenv('UNSPLASH_ACCESS_KEY')\n",
    "\n",
    "# Function to generate a funny script for a topic in different languages\n",
    "def generate_funny_script(topic, lang):\n",
    "    scripts = {\n",
    "        'en': f\"\"\"\n",
    "        Title: World War III: The Ultimate Comedy Showdown\n",
    "\n",
    "        \"Hey there, folks! Why did World War III cross the road? To get to the other side of the laughter! \n",
    "        But seriously, today we’re diving into the wacky world of World War III! \n",
    "        Now, before you grab your survival gear, let’s explore this topic with a sense of humor, \n",
    "        because laughter is the best way to cope, right?\"\n",
    "        \"\"\",\n",
    "        'hi': f\"\"\"\n",
    "        शीर्षक: विश्व युद्ध III: अंतिम कॉमेडी शोडाउन\n",
    "\n",
    "        \"नमस्ते दोस्तों! विश्व युद्ध III ने सड़क क्यों पार की? हंसी के दूसरी ओर जाने के लिए! \n",
    "        लेकिन गंभीरता से, आज हम विश्व युद्ध III की मजेदार दुनिया में गोता लगाने जा रहे हैं! \n",
    "        अब, इससे पहले कि आप अपने बचे हुए सामान को उठाएँ, चलो इस विषय का एक हल्के मन से अन्वेषण करते हैं, \n",
    "        क्योंकि हंसी सबसे अच्छी दवा है, है ना?\"\n",
    "        \"\"\",\n",
    "        'te': f\"\"\"\n",
    "        శీర్షిక: ప్రపంచ యుద్ధం III: అఖరి కామెడీ షో డౌన్\n",
    "\n",
    "        \"హాయ్ మిత్రులు! ప్రపంచ యుద్ధం III వీధి ఎందుకు దాటింది? \n",
    "        నవ్వుల దిశగా వెళ్ళడానికి! కానీ గంభీరీకరంగా చెప్పాలంటే, \n",
    "        ఈ రోజు మనం ప్రపంచ యుద్ధం III యొక్క విచిత్రమైన ప్రపంచంలోకి అడుగు పెట్టబోతున్నాం!\"\n",
    "        \"\"\",\n",
    "        # Add more languages as needed\n",
    "    }\n",
    "    \n",
    "    return scripts.get(lang, scripts['en'])  # Default to English if language not found\n",
    "\n",
    "# Function to download images from Unsplash\n",
    "def download_images(topic, num_images=10):\n",
    "    folder = f\"resources/{topic}/images\"\n",
    "    os.makedirs(folder, exist_ok=True)\n",
    "    \n",
    "    # Check if images already exist\n",
    "    existing_images = set(os.listdir(folder))\n",
    "    \n",
    "    if len(existing_images) >= num_images:\n",
    "        print(f\"Images already downloaded for {topic}. Using existing images.\")\n",
    "        return\n",
    "    \n",
    "    url = f\"https://api.unsplash.com/photos/random?query={topic}&count={num_images}&client_id={UNSPLASH_ACCESS_KEY}\"\n",
    "    response = requests.get(url)\n",
    "    \n",
    "    if response.status_code != 200:\n",
    "        print(f\"Error fetching images: {response.status_code} - {response.text}\")\n",
    "        return\n",
    "    \n",
    "    photos = response.json()\n",
    "    \n",
    "    for photo in photos:\n",
    "        img_url = photo['urls']['raw']\n",
    "        img_response = requests.get(img_url)\n",
    "        img_name = os.path.join(folder, f\"{photo['id']}.jpg\")\n",
    "        with open(img_name, 'wb') as img_file:\n",
    "            img_file.write(img_response.content)\n",
    "\n",
    "# Function to clean and adjust audio\n",
    "def clean_and_adjust_audio(audio_filename):\n",
    "    # Load audio\n",
    "    audio = AudioFileClip(audio_filename)\n",
    "\n",
    "    # Increase volume\n",
    "    audio = audio.volumex(2.0)  # Increase volume by a factor of 2\n",
    "\n",
    "    # Save the adjusted audio\n",
    "    adjusted_audio_filename = audio_filename.replace('.mp3', '_adjusted.mp3')\n",
    "    audio.write_audiofile(adjusted_audio_filename, codec='mp3')\n",
    "    \n",
    "    return adjusted_audio_filename\n",
    "\n",
    "# Function to create the video\n",
    "def create_video(script_text, audio_filename, video_filename, background_music):\n",
    "    # Create a simple video clip for each image\n",
    "    image_clips = []\n",
    "    folder = f\"resources/{topic}/images\"\n",
    "    \n",
    "    for img_file in os.listdir(folder):\n",
    "        img_path = os.path.join(folder, img_file)\n",
    "        \n",
    "        # Open and resize the image\n",
    "        with Image.open(img_path) as img:\n",
    "            img = img.resize((1280, 720), Image.LANCZOS)  # Resize to fit video dimensions\n",
    "            img.save(img_path)  # Save the resized image back\n",
    "        \n",
    "        clip = ImageClip(img_path).set_duration(2)  # Show each image for 2 seconds\n",
    "        clip = clip.set_position(\"center\")  # Center the image\n",
    "        image_clips.append(clip)\n",
    "\n",
    "    # Concatenate images into a video\n",
    "    video = concatenate_videoclips(image_clips, method=\"compose\")\n",
    "\n",
    "    # Load audio and set it to the video\n",
    "    audio = AudioFileClip(audio_filename)\n",
    "    video = video.set_audio(audio)\n",
    "\n",
    "    # Add background music\n",
    "    if background_music:\n",
    "        music = AudioFileClip(background_music).volumex(0.1)  # Adjust volume as needed\n",
    "        \n",
    "        # Trim background music to match the length of the audio\n",
    "        music = music.subclip(0, audio.duration)\n",
    "        \n",
    "        # Overlay background music with the main audio\n",
    "        final_audio = CompositeAudioClip([audio, music])\n",
    "        video = video.set_audio(final_audio)\n",
    "\n",
    "    # Write the result to a file\n",
    "    video.write_videofile(video_filename, fps=24)\n",
    "\n",
    "# Main function to execute the steps\n",
    "def main(topic, languages):\n",
    "    # Define the path to your background music\n",
    "    background_music_folder = 'D:\\\\Rabbani_Projects\\\\youtube_poc\\\\yt_helpers\\\\audios'\n",
    "    music_files = [f for f in os.listdir(background_music_folder) if f.endswith('.mp3')]\n",
    "    \n",
    "    if not music_files:\n",
    "        print(\"No background music files found.\")\n",
    "        return\n",
    "\n",
    "    for lang in languages:\n",
    "        print(f\"Generating video in {lang}...\")\n",
    "\n",
    "        # Step 1: Generate a funny script in the specified language\n",
    "        script = generate_funny_script(topic, lang)\n",
    "        print(\"Generated Script:\\n\", script)\n",
    "\n",
    "        # Step 2: Download images\n",
    "        download_images(topic)\n",
    "\n",
    "        # Step 3: Generate audio from the script\n",
    "        audio_filename = f\"resources/{topic}/{topic}_audio_{lang}.mp3\"\n",
    "        tts = gTTS(text=script, lang=lang)\n",
    "        tts.save(audio_filename)\n",
    "\n",
    "        # Clean and adjust the audio after saving\n",
    "        audio_filename = clean_and_adjust_audio(audio_filename)\n",
    "\n",
    "        # Step 4: Select random background music\n",
    "        background_music = os.path.join(background_music_folder, random.choice(music_files))\n",
    "\n",
    "        # Step 5: Create the video\n",
    "        video_filename = f\"resources/{topic}/{topic}_video_{lang}.mp4\"\n",
    "        create_video(script, audio_filename, video_filename, background_music)\n",
    "        print(f\"Video created successfully: {video_filename}\")\n",
    "\n",
    "# Example usage\n",
    "if __name__ == \"__main__\":\n",
    "    topic = \"World War III\"  # Replace with your desired topic\n",
    "    languages = ['en', 'hi', 'te']  # List of language codes\n",
    "    main(topic, languages)\n"
   ]
  },
  {
   "cell_type": "code",
   "execution_count": 16,
   "id": "f4c338a2-f0ad-46b5-869f-c8621aafb578",
   "metadata": {},
   "outputs": [
    {
     "name": "stdout",
     "output_type": "stream",
     "text": [
      "Generating video in en...\n",
      "Generated Script:\n",
      " \n",
      "        Title: World War III: The Ultimate Comedy Showdown\n",
      "\n",
      "        \"Hey there, folks! Why did World War III cross the road? To get to the other side of the laughter! \n",
      "        But seriously, today we’re diving into the wacky world of World War III! \n",
      "        Now, before you grab your survival gear, let’s explore this topic with a sense of humor, \n",
      "        because laughter is the best way to cope, right?\"\n",
      "        \n",
      "Images already downloaded for World War III. Using existing images.\n",
      "MoviePy - Writing audio in resources/World War III/World War III_audio_en_adjusted.mp3\n"
     ]
    },
    {
     "name": "stderr",
     "output_type": "stream",
     "text": [
      "                                                                                                                       \r"
     ]
    },
    {
     "name": "stdout",
     "output_type": "stream",
     "text": [
      "MoviePy - Done.\n",
      "No music found for the topic: World War III\n",
      "Moviepy - Building video resources/World War III/World War III_video_en.mp4.\n",
      "MoviePy - Writing audio in World War III_video_enTEMP_MPY_wvf_snd.mp3\n"
     ]
    },
    {
     "name": "stderr",
     "output_type": "stream",
     "text": [
      "                                                                                                                       \r"
     ]
    },
    {
     "name": "stdout",
     "output_type": "stream",
     "text": [
      "MoviePy - Done.\n",
      "Moviepy - Writing video resources/World War III/World War III_video_en.mp4\n",
      "\n"
     ]
    },
    {
     "name": "stderr",
     "output_type": "stream",
     "text": [
      "                                                                                                                       \r"
     ]
    },
    {
     "name": "stdout",
     "output_type": "stream",
     "text": [
      "Moviepy - Done !\n",
      "Moviepy - video ready resources/World War III/World War III_video_en.mp4\n",
      "Video created successfully: resources/World War III/World War III_video_en.mp4\n",
      "Generating video in hi...\n",
      "Generated Script:\n",
      " \n",
      "        शीर्षक: विश्व युद्ध III: अंतिम कॉमेडी शोडाउन\n",
      "\n",
      "        \"नमस्ते दोस्तों! विश्व युद्ध III ने सड़क क्यों पार की? हंसी के दूसरी ओर जाने के लिए! \n",
      "        लेकिन गंभीरता से, आज हम विश्व युद्ध III की मजेदार दुनिया में गोता लगाने जा रहे हैं! \n",
      "        अब, इससे पहले कि आप अपने बचे हुए सामान को उठाएँ, चलो इस विषय का एक हल्के मन से अन्वेषण करते हैं, \n",
      "        क्योंकि हंसी सबसे अच्छी दवा है, है ना?\"\n",
      "        \n",
      "Images already downloaded for World War III. Using existing images.\n",
      "MoviePy - Writing audio in resources/World War III/World War III_audio_hi_adjusted.mp3\n"
     ]
    },
    {
     "name": "stderr",
     "output_type": "stream",
     "text": [
      "                                                                                                                       \r"
     ]
    },
    {
     "name": "stdout",
     "output_type": "stream",
     "text": [
      "MoviePy - Done.\n",
      "No music found for the topic: World War III\n",
      "Moviepy - Building video resources/World War III/World War III_video_hi.mp4.\n",
      "MoviePy - Writing audio in World War III_video_hiTEMP_MPY_wvf_snd.mp3\n"
     ]
    },
    {
     "name": "stderr",
     "output_type": "stream",
     "text": [
      "                                                                                                                       \r"
     ]
    },
    {
     "name": "stdout",
     "output_type": "stream",
     "text": [
      "MoviePy - Done.\n",
      "Moviepy - Writing video resources/World War III/World War III_video_hi.mp4\n",
      "\n"
     ]
    },
    {
     "name": "stderr",
     "output_type": "stream",
     "text": [
      "                                                                                                                       \r"
     ]
    },
    {
     "name": "stdout",
     "output_type": "stream",
     "text": [
      "Moviepy - Done !\n",
      "Moviepy - video ready resources/World War III/World War III_video_hi.mp4\n",
      "Video created successfully: resources/World War III/World War III_video_hi.mp4\n",
      "Generating video in te...\n",
      "Generated Script:\n",
      " \n",
      "        శీర్షిక: ప్రపంచ యుద్ధం III: అఖరి కామెడీ షో డౌన్\n",
      "\n",
      "        \"హాయ్ మిత్రులు! ప్రపంచ యుద్ధం III వీధి ఎందుకు దాటింది? \n",
      "        నవ్వుల దిశగా వెళ్ళడానికి! కానీ గంభీరీకరంగా చెప్పాలంటే, \n",
      "        ఈ రోజు మనం ప్రపంచ యుద్ధం III యొక్క విచిత్రమైన ప్రపంచంలోకి అడుగు పెట్టబోతున్నాం!\"\n",
      "        \n",
      "Images already downloaded for World War III. Using existing images.\n",
      "MoviePy - Writing audio in resources/World War III/World War III_audio_te_adjusted.mp3\n"
     ]
    },
    {
     "name": "stderr",
     "output_type": "stream",
     "text": [
      "                                                                                                                       \r"
     ]
    },
    {
     "name": "stdout",
     "output_type": "stream",
     "text": [
      "MoviePy - Done.\n",
      "No music found for the topic: World War III\n",
      "Moviepy - Building video resources/World War III/World War III_video_te.mp4.\n",
      "MoviePy - Writing audio in World War III_video_teTEMP_MPY_wvf_snd.mp3\n"
     ]
    },
    {
     "name": "stderr",
     "output_type": "stream",
     "text": [
      "                                                                                                                       \r"
     ]
    },
    {
     "name": "stdout",
     "output_type": "stream",
     "text": [
      "MoviePy - Done.\n",
      "Moviepy - Writing video resources/World War III/World War III_video_te.mp4\n",
      "\n"
     ]
    },
    {
     "name": "stderr",
     "output_type": "stream",
     "text": [
      "                                                                                                                       \r"
     ]
    },
    {
     "name": "stdout",
     "output_type": "stream",
     "text": [
      "Moviepy - Done !\n",
      "Moviepy - video ready resources/World War III/World War III_video_te.mp4\n",
      "Video created successfully: resources/World War III/World War III_video_te.mp4\n"
     ]
    }
   ],
   "source": [
    "import os\n",
    "import random\n",
    "import requests\n",
    "from moviepy.editor import *\n",
    "from PIL import Image\n",
    "from gtts import gTTS\n",
    "from dotenv import load_dotenv\n",
    "from bs4 import BeautifulSoup\n",
    "\n",
    "# Load environment variables from .env file\n",
    "load_dotenv()\n",
    "UNSPLASH_ACCESS_KEY = os.getenv('UNSPLASH_ACCESS_KEY')\n",
    "\n",
    "# Function to generate a funny script for a topic in different languages\n",
    "def generate_funny_script(topic, lang):\n",
    "    scripts = {\n",
    "        'en': f\"\"\"\n",
    "        Title: World War III: The Ultimate Comedy Showdown\n",
    "\n",
    "        \"Hey there, folks! Why did World War III cross the road? To get to the other side of the laughter! \n",
    "        But seriously, today we’re diving into the wacky world of World War III! \n",
    "        Now, before you grab your survival gear, let’s explore this topic with a sense of humor, \n",
    "        because laughter is the best way to cope, right?\"\n",
    "        \"\"\",\n",
    "        'hi': f\"\"\"\n",
    "        शीर्षक: विश्व युद्ध III: अंतिम कॉमेडी शोडाउन\n",
    "\n",
    "        \"नमस्ते दोस्तों! विश्व युद्ध III ने सड़क क्यों पार की? हंसी के दूसरी ओर जाने के लिए! \n",
    "        लेकिन गंभीरता से, आज हम विश्व युद्ध III की मजेदार दुनिया में गोता लगाने जा रहे हैं! \n",
    "        अब, इससे पहले कि आप अपने बचे हुए सामान को उठाएँ, चलो इस विषय का एक हल्के मन से अन्वेषण करते हैं, \n",
    "        क्योंकि हंसी सबसे अच्छी दवा है, है ना?\"\n",
    "        \"\"\",\n",
    "        'te': f\"\"\"\n",
    "        శీర్షిక: ప్రపంచ యుద్ధం III: అఖరి కామెడీ షో డౌన్\n",
    "\n",
    "        \"హాయ్ మిత్రులు! ప్రపంచ యుద్ధం III వీధి ఎందుకు దాటింది? \n",
    "        నవ్వుల దిశగా వెళ్ళడానికి! కానీ గంభీరీకరంగా చెప్పాలంటే, \n",
    "        ఈ రోజు మనం ప్రపంచ యుద్ధం III యొక్క విచిత్రమైన ప్రపంచంలోకి అడుగు పెట్టబోతున్నాం!\"\n",
    "        \"\"\",\n",
    "        # Add more languages as needed\n",
    "    }\n",
    "    \n",
    "    return scripts.get(lang, scripts['en'])  # Default to English if language not found\n",
    "\n",
    "# Function to download images from Unsplash\n",
    "def download_images(topic, num_images=10):\n",
    "    folder = f\"resources/{topic}/images\"\n",
    "    os.makedirs(folder, exist_ok=True)\n",
    "    \n",
    "    # Check if images already exist\n",
    "    existing_images = set(os.listdir(folder))\n",
    "    \n",
    "    if len(existing_images) >= num_images:\n",
    "        print(f\"Images already downloaded for {topic}. Using existing images.\")\n",
    "        return\n",
    "    \n",
    "    url = f\"https://api.unsplash.com/photos/random?query={topic}&count={num_images}&client_id={UNSPLASH_ACCESS_KEY}\"\n",
    "    response = requests.get(url)\n",
    "    \n",
    "    if response.status_code != 200:\n",
    "        print(f\"Error fetching images: {response.status_code} - {response.text}\")\n",
    "        return\n",
    "    \n",
    "    photos = response.json()\n",
    "    \n",
    "    for photo in photos:\n",
    "        img_url = photo['urls']['raw']\n",
    "        img_response = requests.get(img_url)\n",
    "        img_name = os.path.join(folder, f\"{photo['id']}.jpg\")\n",
    "        with open(img_name, 'wb') as img_file:\n",
    "            img_file.write(img_response.content)\n",
    "\n",
    "# Function to clean and adjust audio\n",
    "def clean_and_adjust_audio(audio_filename):\n",
    "    # Load audio\n",
    "    audio = AudioFileClip(audio_filename)\n",
    "\n",
    "    # Increase volume\n",
    "    audio = audio.volumex(2.0)  # Increase volume by a factor of 2\n",
    "\n",
    "    # Save the adjusted audio\n",
    "    adjusted_audio_filename = audio_filename.replace('.mp3', '_adjusted.mp3')\n",
    "    audio.write_audiofile(adjusted_audio_filename, codec='mp3')\n",
    "    \n",
    "    return adjusted_audio_filename\n",
    "\n",
    "# Function to download background music based on the topic\n",
    "def download_background_music(topic):\n",
    "    # Search for background music using Free Music Archive (FMA) as an example\n",
    "    search_url = f\"https://freemusicarchive.org/search/?quicksearch={topic.replace(' ', '+')}\"\n",
    "    response = requests.get(search_url)\n",
    "\n",
    "    if response.status_code != 200:\n",
    "        print(f\"Error fetching background music: {response.status_code} - {response.text}\")\n",
    "        return None\n",
    "\n",
    "    # Parse the page to find music links\n",
    "    soup = BeautifulSoup(response.text, 'html.parser')\n",
    "    music_links = soup.find_all('a', class_='audio_link')\n",
    "\n",
    "    if not music_links:\n",
    "        print(f\"No music found for the topic: {topic}\")\n",
    "        return None\n",
    "\n",
    "    # Get the first music link (or you can modify this to select randomly)\n",
    "    music_url = music_links[0]['href']\n",
    "    music_file_response = requests.get(music_url)\n",
    "\n",
    "    # Download the music file (assuming the URL is direct to an audio file)\n",
    "    music_filename = f\"resources/{topic}/{topic}_background_music.mp3\"\n",
    "    os.makedirs(f\"resources/{topic}\", exist_ok=True)\n",
    "\n",
    "    with open(music_filename, 'wb') as music_file:\n",
    "        music_file.write(music_file_response.content)\n",
    "\n",
    "    return music_filename\n",
    "\n",
    "# Function to create the video\n",
    "def create_video(script_text, audio_filename, video_filename, background_music):\n",
    "    # Create a simple video clip for each image\n",
    "    image_clips = []\n",
    "    folder = f\"resources/{topic}/images\"\n",
    "    \n",
    "    for img_file in os.listdir(folder):\n",
    "        img_path = os.path.join(folder, img_file)\n",
    "        \n",
    "        # Open and resize the image\n",
    "        with Image.open(img_path) as img:\n",
    "            img = img.resize((1280, 720), Image.LANCZOS)  # Resize to fit video dimensions\n",
    "            img.save(img_path)  # Save the resized image back\n",
    "        \n",
    "        clip = ImageClip(img_path).set_duration(2)  # Show each image for 2 seconds\n",
    "        clip = clip.set_position(\"center\")  # Center the image\n",
    "        image_clips.append(clip)\n",
    "\n",
    "    # Concatenate images into a video\n",
    "    video = concatenate_videoclips(image_clips, method=\"compose\")\n",
    "\n",
    "    # Load audio and set it to the video\n",
    "    audio = AudioFileClip(audio_filename)\n",
    "    video = video.set_audio(audio)\n",
    "\n",
    "    # Add background music\n",
    "    if background_music:\n",
    "        music = AudioFileClip(background_music).volumex(0.1)  # Adjust volume as needed\n",
    "        \n",
    "        # Trim background music to match the length of the audio\n",
    "        music = music.subclip(0, audio.duration)\n",
    "        \n",
    "        # Overlay background music with the main audio\n",
    "        final_audio = CompositeAudioClip([audio, music])\n",
    "        video = video.set_audio(final_audio)\n",
    "\n",
    "    # Write the result to a file\n",
    "    video.write_videofile(video_filename, fps=24)\n",
    "\n",
    "# Main function to execute the steps\n",
    "def main(topic, languages):\n",
    "    for lang in languages:\n",
    "        print(f\"Generating video in {lang}...\")\n",
    "\n",
    "        # Step 1: Generate a funny script in the specified language\n",
    "        script = generate_funny_script(topic, lang)\n",
    "        print(\"Generated Script:\\n\", script)\n",
    "\n",
    "        # Step 2: Download images\n",
    "        download_images(topic)\n",
    "\n",
    "        # Step 3: Generate audio from the script\n",
    "        audio_filename = f\"resources/{topic}/{topic}_audio_{lang}.mp3\"\n",
    "        tts = gTTS(text=script, lang=lang)\n",
    "        tts.save(audio_filename)\n",
    "\n",
    "        # Clean and adjust the audio after saving\n",
    "        audio_filename = clean_and_adjust_audio(audio_filename)\n",
    "\n",
    "        # Step 4: Download background music based on the topic\n",
    "        background_music = download_background_music(topic)\n",
    "\n",
    "        # Step 5: Create the video\n",
    "        video_filename = f\"resources/{topic}/{topic}_video_{lang}.mp4\"\n",
    "        create_video(script, audio_filename, video_filename, background_music)\n",
    "        print(f\"Video created successfully: {video_filename}\")\n",
    "\n",
    "# Example usage\n",
    "if __name__ == \"__main__\":\n",
    "    topic = \"World War III\"  # Replace with your desired topic\n",
    "    languages = ['en', 'hi', 'te']  # List of language codes\n",
    "    main(topic, languages)\n"
   ]
  },
  {
   "cell_type": "code",
   "execution_count": 34,
   "id": "387431ae-3691-4bc1-84ef-038e02bd554a",
   "metadata": {},
   "outputs": [
    {
     "name": "stdout",
     "output_type": "stream",
     "text": [
      "Generating video in en...\n",
      "Generated Script:\n",
      " \n",
      "        Title: A Funny Story in 3 Minutes\n",
      "\n",
      "        \"Hey everyone! Let me share a funny story that will have you in stitches in just 3 minutes! \n",
      "        So, there was this guy who thought he was an amazing chef. He wanted to impress his friends \n",
      "        with his culinary skills. But instead of making a fancy dinner, he accidentally set the kitchen \n",
      "        on fire while trying to flambé! \n",
      "        Everyone ran out while he was still in there trying to save his soufflé! \n",
      "        Remember folks, if you can't handle the heat, stay out of the kitchen!\"\n",
      "        \n",
      "Images already downloaded for Funny Story of 3 Minutes. Using existing images.\n",
      "MoviePy - Writing audio in resources/Funny Story of 3 Minutes/Funny Story of 3 Minutes_audio_en_adjusted.mp3\n"
     ]
    },
    {
     "name": "stderr",
     "output_type": "stream",
     "text": [
      "                                                                                                                       \r"
     ]
    },
    {
     "name": "stdout",
     "output_type": "stream",
     "text": [
      "MoviePy - Done.\n",
      "No music found for the topic: Funny Story of 3 Minutes\n",
      "Moviepy - Building video resources/Funny Story of 3 Minutes/Funny Story of 3 Minutes_video_en.mp4.\n",
      "MoviePy - Writing audio in Funny Story of 3 Minutes_video_enTEMP_MPY_wvf_snd.mp3\n"
     ]
    },
    {
     "name": "stderr",
     "output_type": "stream",
     "text": [
      "                                                                                                                       \r"
     ]
    },
    {
     "name": "stdout",
     "output_type": "stream",
     "text": [
      "MoviePy - Done.\n",
      "Moviepy - Writing video resources/Funny Story of 3 Minutes/Funny Story of 3 Minutes_video_en.mp4\n",
      "\n"
     ]
    },
    {
     "name": "stderr",
     "output_type": "stream",
     "text": [
      "                                                                                                                       \r"
     ]
    },
    {
     "name": "stdout",
     "output_type": "stream",
     "text": [
      "Moviepy - Done !\n",
      "Moviepy - video ready resources/Funny Story of 3 Minutes/Funny Story of 3 Minutes_video_en.mp4\n",
      "Video created successfully: resources/Funny Story of 3 Minutes/Funny Story of 3 Minutes_video_en.mp4\n",
      "Generating video in hi...\n",
      "Generated Script:\n",
      " \n",
      "        शीर्षक: 3 मिनट में एक मजेदार कहानी\n",
      "\n",
      "        \"नमस्ते दोस्तों! आइए मैं आपको एक मजेदार कहानी सुनाता हूँ जो आपको सिर्फ 3 मिनट में हंसी में डाल देगी! \n",
      "        एक बार एक आदमी था जिसे लगता था कि वह एक शानदार रसोइया है। \n",
      "        उसने अपने दोस्तों को अपने पाक कौशल से प्रभावित करना चाहा, लेकिन एक फैंसी डिनर बनाने के बजाय, \n",
      "        उसने गलती से किचन में आग लगा दी जब वह फ्लंबे बनाने की कोशिश कर रहा था! \n",
      "        सभी बाहर भाग गए जबकि वह अभी भी अंदर था और अपने सुफले को बचाने की कोशिश कर रहा था! \n",
      "        याद रखें दोस्तों, अगर आप गर्मी को संभाल नहीं सकते, तो रसोई से बाहर रहें!\"\n",
      "        \n",
      "Images already downloaded for Funny Story of 3 Minutes. Using existing images.\n",
      "MoviePy - Writing audio in resources/Funny Story of 3 Minutes/Funny Story of 3 Minutes_audio_hi_adjusted.mp3\n"
     ]
    },
    {
     "name": "stderr",
     "output_type": "stream",
     "text": [
      "                                                                                                                       \r"
     ]
    },
    {
     "name": "stdout",
     "output_type": "stream",
     "text": [
      "MoviePy - Done.\n",
      "No music found for the topic: Funny Story of 3 Minutes\n",
      "Moviepy - Building video resources/Funny Story of 3 Minutes/Funny Story of 3 Minutes_video_hi.mp4.\n",
      "MoviePy - Writing audio in Funny Story of 3 Minutes_video_hiTEMP_MPY_wvf_snd.mp3\n"
     ]
    },
    {
     "name": "stderr",
     "output_type": "stream",
     "text": [
      "                                                                                                                       \r"
     ]
    },
    {
     "name": "stdout",
     "output_type": "stream",
     "text": [
      "MoviePy - Done.\n",
      "Moviepy - Writing video resources/Funny Story of 3 Minutes/Funny Story of 3 Minutes_video_hi.mp4\n",
      "\n"
     ]
    },
    {
     "name": "stderr",
     "output_type": "stream",
     "text": [
      "                                                                                                                       \r"
     ]
    },
    {
     "name": "stdout",
     "output_type": "stream",
     "text": [
      "Moviepy - Done !\n",
      "Moviepy - video ready resources/Funny Story of 3 Minutes/Funny Story of 3 Minutes_video_hi.mp4\n",
      "Video created successfully: resources/Funny Story of 3 Minutes/Funny Story of 3 Minutes_video_hi.mp4\n",
      "Generating video in te...\n",
      "Generated Script:\n",
      " \n",
      "        శీర్షిక: 3 నిమిషాల్లో ఒక వినోదం కథ\n",
      "\n",
      "        \"అందరికీ నమస్కారం! మీకు కేవలం 3 నిమిషాల్లో హాస్యంగా ఉన్న ఒక వినోదం కథను చెప్పాలనుకుంటున్నాను! \n",
      "        ఒక వ్యక్తి బాగా పాకం చెయ్యగల దాని గురించి అనుకున్నాడు. \n",
      "        అతను తన మిత్రులను తన వంట నైపుణ్యాలతో ఆకర్షించాలనుకున్నాడు, కానీ బాగా డిన్నర్ చేసేందుకు \n",
      "        ప్రయత్నించినప్పుడు, అతను ఫ్లాంబ్ చేసే సమయంలో కిచన్‌లో అగ్నిప్రమాదం జరగడం జరిగింది! \n",
      "        అందరూ బయటకు పరుగులు పెట్టారు, కానీ అతను ఇంకా అక్కడి కిచెన్‌లో తన సుఫ్లేను కాపాడటానికి ప్రయత్నించేవాడే! \n",
      "        మిత్రులారా, మీరు వేడి తీసుకోలేకపోతే, కిచెన్‌కు దూరంగా ఉండండి!\"\n",
      "        \n",
      "Images already downloaded for Funny Story of 3 Minutes. Using existing images.\n",
      "MoviePy - Writing audio in resources/Funny Story of 3 Minutes/Funny Story of 3 Minutes_audio_te_adjusted.mp3\n"
     ]
    },
    {
     "name": "stderr",
     "output_type": "stream",
     "text": [
      "                                                                                                                       \r"
     ]
    },
    {
     "name": "stdout",
     "output_type": "stream",
     "text": [
      "MoviePy - Done.\n",
      "No music found for the topic: Funny Story of 3 Minutes\n",
      "Moviepy - Building video resources/Funny Story of 3 Minutes/Funny Story of 3 Minutes_video_te.mp4.\n",
      "MoviePy - Writing audio in Funny Story of 3 Minutes_video_teTEMP_MPY_wvf_snd.mp3\n"
     ]
    },
    {
     "name": "stderr",
     "output_type": "stream",
     "text": [
      "                                                                                                                       \r"
     ]
    },
    {
     "name": "stdout",
     "output_type": "stream",
     "text": [
      "MoviePy - Done.\n",
      "Moviepy - Writing video resources/Funny Story of 3 Minutes/Funny Story of 3 Minutes_video_te.mp4\n",
      "\n"
     ]
    },
    {
     "name": "stderr",
     "output_type": "stream",
     "text": [
      "                                                                                                                       \r"
     ]
    },
    {
     "name": "stdout",
     "output_type": "stream",
     "text": [
      "Moviepy - Done !\n",
      "Moviepy - video ready resources/Funny Story of 3 Minutes/Funny Story of 3 Minutes_video_te.mp4\n",
      "Video created successfully: resources/Funny Story of 3 Minutes/Funny Story of 3 Minutes_video_te.mp4\n"
     ]
    }
   ],
   "source": [
    "import os\n",
    "import random\n",
    "import requests\n",
    "from moviepy.editor import *\n",
    "from PIL import Image\n",
    "from gtts import gTTS\n",
    "from dotenv import load_dotenv\n",
    "from bs4 import BeautifulSoup\n",
    "\n",
    "# Load environment variables from .env file\n",
    "load_dotenv()\n",
    "UNSPLASH_ACCESS_KEY = os.getenv('UNSPLASH_ACCESS_KEY')\n",
    "\n",
    "# Function to generate a funny script for a topic in different languages\n",
    "def generate_funny_script(topic, lang):\n",
    "    scripts = {\n",
    "        'en': f\"\"\"\n",
    "        Title: A Funny Story in 3 Minutes\n",
    "\n",
    "        \"Hey everyone! Let me share a funny story that will have you in stitches in just 3 minutes! \n",
    "        So, there was this guy who thought he was an amazing chef. He wanted to impress his friends \n",
    "        with his culinary skills. But instead of making a fancy dinner, he accidentally set the kitchen \n",
    "        on fire while trying to flambé! \n",
    "        Everyone ran out while he was still in there trying to save his soufflé! \n",
    "        Remember folks, if you can't handle the heat, stay out of the kitchen!\"\n",
    "        \"\"\",\n",
    "        'hi': f\"\"\"\n",
    "        शीर्षक: 3 मिनट में एक मजेदार कहानी\n",
    "\n",
    "        \"नमस्ते दोस्तों! आइए मैं आपको एक मजेदार कहानी सुनाता हूँ जो आपको सिर्फ 3 मिनट में हंसी में डाल देगी! \n",
    "        एक बार एक आदमी था जिसे लगता था कि वह एक शानदार रसोइया है। \n",
    "        उसने अपने दोस्तों को अपने पाक कौशल से प्रभावित करना चाहा, लेकिन एक फैंसी डिनर बनाने के बजाय, \n",
    "        उसने गलती से किचन में आग लगा दी जब वह फ्लंबे बनाने की कोशिश कर रहा था! \n",
    "        सभी बाहर भाग गए जबकि वह अभी भी अंदर था और अपने सुफले को बचाने की कोशिश कर रहा था! \n",
    "        याद रखें दोस्तों, अगर आप गर्मी को संभाल नहीं सकते, तो रसोई से बाहर रहें!\"\n",
    "        \"\"\",\n",
    "        'te': f\"\"\"\n",
    "        శీర్షిక: 3 నిమిషాల్లో ఒక వినోదం కథ\n",
    "\n",
    "        \"అందరికీ నమస్కారం! మీకు కేవలం 3 నిమిషాల్లో హాస్యంగా ఉన్న ఒక వినోదం కథను చెప్పాలనుకుంటున్నాను! \n",
    "        ఒక వ్యక్తి బాగా పాకం చెయ్యగల దాని గురించి అనుకున్నాడు. \n",
    "        అతను తన మిత్రులను తన వంట నైపుణ్యాలతో ఆకర్షించాలనుకున్నాడు, కానీ బాగా డిన్నర్ చేసేందుకు \n",
    "        ప్రయత్నించినప్పుడు, అతను ఫ్లాంబ్ చేసే సమయంలో కిచన్‌లో అగ్నిప్రమాదం జరగడం జరిగింది! \n",
    "        అందరూ బయటకు పరుగులు పెట్టారు, కానీ అతను ఇంకా అక్కడి కిచెన్‌లో తన సుఫ్లేను కాపాడటానికి ప్రయత్నించేవాడే! \n",
    "        మిత్రులారా, మీరు వేడి తీసుకోలేకపోతే, కిచెన్‌కు దూరంగా ఉండండి!\"\n",
    "        \"\"\",\n",
    "        # Add more languages as needed\n",
    "    }\n",
    "    \n",
    "    return scripts.get(lang, scripts['en'])  # Default to English if language not found\n",
    "\n",
    "# Function to download images from Unsplash\n",
    "def download_images(topic, num_images=10):\n",
    "    folder = f\"resources/{topic}/images\"\n",
    "    os.makedirs(folder, exist_ok=True)\n",
    "    \n",
    "    # Check if images already exist\n",
    "    existing_images = set(os.listdir(folder))\n",
    "    \n",
    "    if len(existing_images) >= num_images:\n",
    "        print(f\"Images already downloaded for {topic}. Using existing images.\")\n",
    "        return\n",
    "    \n",
    "    url = f\"https://api.unsplash.com/photos/random?query={topic}&count={num_images}&client_id={UNSPLASH_ACCESS_KEY}\"\n",
    "    response = requests.get(url)\n",
    "    \n",
    "    if response.status_code != 200:\n",
    "        print(f\"Error fetching images: {response.status_code} - {response.text}\")\n",
    "        return\n",
    "    \n",
    "    photos = response.json()\n",
    "    \n",
    "    for photo in photos:\n",
    "        img_url = photo['urls']['raw']\n",
    "        img_response = requests.get(img_url)\n",
    "        img_name = os.path.join(folder, f\"{photo['id']}.jpg\")\n",
    "        with open(img_name, 'wb') as img_file:\n",
    "            img_file.write(img_response.content)\n",
    "\n",
    "# Function to clean and adjust audio\n",
    "def clean_and_adjust_audio(audio_filename):\n",
    "    # Load audio\n",
    "    audio = AudioFileClip(audio_filename)\n",
    "\n",
    "    # Increase volume\n",
    "    audio = audio.volumex(10.0)  # Set volume to 10\n",
    "\n",
    "    # Save the adjusted audio\n",
    "    adjusted_audio_filename = audio_filename.replace('.mp3', '_adjusted.mp3')\n",
    "    audio.write_audiofile(adjusted_audio_filename, codec='mp3')\n",
    "    \n",
    "    return adjusted_audio_filename\n",
    "\n",
    "# Function to download background music based on the topic\n",
    "def download_background_music(topic):\n",
    "    # Example: Use Free Music Archive (FMA) to find background music\n",
    "    search_url = f\"https://freemusicarchive.org/search/?quicksearch={topic.replace(' ', '+')}\"\n",
    "    response = requests.get(search_url)\n",
    "\n",
    "    if response.status_code != 200:\n",
    "        print(f\"Error fetching background music: {response.status_code} - {response.text}\")\n",
    "        return None\n",
    "\n",
    "    # Parse the page to find music links\n",
    "    soup = BeautifulSoup(response.text, 'html.parser')\n",
    "    music_links = soup.find_all('a', class_='audio_link')\n",
    "\n",
    "    if not music_links:\n",
    "        print(f\"No music found for the topic: {topic}\")\n",
    "        return None\n",
    "\n",
    "    # Get the first music link (or you can modify this to select randomly)\n",
    "    music_url = music_links[0]['href']\n",
    "    music_file_response = requests.get(music_url)\n",
    "\n",
    "    # Download the music file (assuming the URL is direct to an audio file)\n",
    "    music_filename = f\"resources/{topic}/{topic}_background_music.mp3\"\n",
    "    os.makedirs(f\"resources/{topic}\", exist_ok=True)\n",
    "\n",
    "    with open(music_filename, 'wb') as music_file:\n",
    "        music_file.write(music_file_response.content)\n",
    "\n",
    "    return music_filename\n",
    "\n",
    "# Function to create the video\n",
    "def create_video(script_text, audio_filename, video_filename, background_music):\n",
    "    # Create a simple video clip for each image\n",
    "    image_clips = []\n",
    "    folder = f\"resources/{topic}/images\"\n",
    "    \n",
    "    for img_file in os.listdir(folder):\n",
    "        img_path = os.path.join(folder, img_file)\n",
    "        \n",
    "        # Open and resize the image\n",
    "        with Image.open(img_path) as img:\n",
    "            img = img.resize((1280, 720), Image.LANCZOS)  # Resize to fit video dimensions\n",
    "            img.save(img_path)  # Save the resized image back\n",
    "        \n",
    "        clip = ImageClip(img_path).set_duration(2)  # Show each image for 2 seconds\n",
    "        clip = clip.set_position(\"center\")  # Center the image\n",
    "        image_clips.append(clip)\n",
    "\n",
    "    # Concatenate images into a video\n",
    "    video = concatenate_videoclips(image_clips, method=\"compose\")\n",
    "\n",
    "    # Load audio and set it to the video\n",
    "    audio = AudioFileClip(audio_filename)\n",
    "    video = video.set_audio(audio)\n",
    "\n",
    "    # Add background music\n",
    "    if background_music:\n",
    "        music = AudioFileClip(background_music).volumex(0.1)  # Adjust volume as needed\n",
    "        \n",
    "        # Trim background music to match the length of the audio\n",
    "        music = music.subclip(0, audio.duration)\n",
    "        \n",
    "        # Overlay background music with the main audio\n",
    "        final_audio = CompositeAudioClip([audio, music])\n",
    "        video = video.set_audio(final_audio)\n",
    "\n",
    "    # Write the result to a file\n",
    "    video.write_videofile(video_filename, fps=24)\n",
    "\n",
    "# Main function to execute the steps\n",
    "def main(topic, languages):\n",
    "    for lang in languages:\n",
    "        print(f\"Generating video in {lang}...\")\n",
    "\n",
    "        # Step 1: Generate a funny script in the specified language\n",
    "        script = generate_funny_script(topic, lang)\n",
    "        print(\"Generated Script:\\n\", script)\n",
    "\n",
    "        # Step 2: Download images\n",
    "        download_images(topic)\n",
    "\n",
    "        # Step 3: Generate audio from the script\n",
    "        audio_filename = f\"resources/{topic}/{topic}_audio_{lang}.mp3\"\n",
    "        tts = gTTS(text=script, lang=lang)\n",
    "        tts.save(audio_filename)\n",
    "\n",
    "        # Clean and adjust the audio after saving\n",
    "        audio_filename = clean_and_adjust_audio(audio_filename)\n",
    "\n",
    "        # Step 4: Download background music based on the topic\n",
    "        background_music = download_background_music(topic)\n",
    "\n",
    "        # Step 5: Create the video\n",
    "        video_filename = f\"resources/{topic}/{topic}_video_{lang}.mp4\"\n",
    "        create_video(script, audio_filename, video_filename, background_music)\n",
    "        print(f\"Video created successfully: {video_filename}\")\n",
    "\n",
    "# Example usage\n",
    "if __name__ == \"__main__\":\n",
    "    topic = \"Funny Story of 3 Minutes\"  # Updated topic\n",
    "    languages = ['en', 'hi', 'te']  # List of language codes\n",
    "    main(topic, languages)\n"
   ]
  },
  {
   "cell_type": "code",
   "execution_count": 49,
   "id": "d8134115-b0f3-4f85-a10e-eb4e3d3ef78f",
   "metadata": {},
   "outputs": [
    {
     "name": "stdout",
     "output_type": "stream",
     "text": [
      "Generating video in en...\n",
      "Generated Script:\n",
      " \n",
      "        Title: A Funny Story in 3 Minutes\n",
      "\n",
      "        \"Hey everyone! Let me share a funny story that will have you in stitches in just 3 minutes! \n",
      "        So, there was this guy who thought he was an amazing chef. He wanted to impress his friends \n",
      "        with his culinary skills. But instead of making a fancy dinner, he accidentally set the kitchen \n",
      "        on fire while trying to flambé! \n",
      "        Everyone ran out while he was still in there trying to save his soufflé! \n",
      "        Remember folks, if you can't handle the heat, stay out of the kitchen!\"\n",
      "        \n",
      "Downloaded and saved image: resources/Funny Story of 3 Minutes/images\\RnCPiXixooY.jpg\n",
      "Downloaded and saved image: resources/Funny Story of 3 Minutes/images\\ZBkH8G4_yyE.jpg\n",
      "Downloaded and saved image: resources/Funny Story of 3 Minutes/images\\E8Nua0oC3CE.jpg\n",
      "Downloaded and saved image: resources/Funny Story of 3 Minutes/images\\i-jJKOq562g.jpg\n",
      "Downloaded and saved image: resources/Funny Story of 3 Minutes/images\\8Ef813JYl3U.jpg\n",
      "Downloaded and saved image: resources/Funny Story of 3 Minutes/images\\aE0-ZJb2VTQ.jpg\n",
      "Downloaded and saved image: resources/Funny Story of 3 Minutes/images\\vWn4Di3RZek.jpg\n",
      "Downloaded and saved image: resources/Funny Story of 3 Minutes/images\\urfmlsTGC9g.jpg\n",
      "Downloaded and saved image: resources/Funny Story of 3 Minutes/images\\bm3ANxva8z4.jpg\n",
      "Downloaded and saved image: resources/Funny Story of 3 Minutes/images\\wi4zrC3SNho.jpg\n",
      "MoviePy - Writing audio in resources/Funny Story of 3 Minutes/Funny Story of 3 Minutes_audio_en_adjusted.mp3\n"
     ]
    },
    {
     "name": "stderr",
     "output_type": "stream",
     "text": [
      "                                                                                                                       \r"
     ]
    },
    {
     "name": "stdout",
     "output_type": "stream",
     "text": [
      "MoviePy - Done.\n",
      "No music found for the topic: Funny Story of 3 Minutes\n",
      "Moviepy - Building video resources/Funny Story of 3 Minutes/Funny Story of 3 Minutes_video_en.mp4.\n",
      "MoviePy - Writing audio in Funny Story of 3 Minutes_video_enTEMP_MPY_wvf_snd.mp3\n"
     ]
    },
    {
     "name": "stderr",
     "output_type": "stream",
     "text": [
      "                                                                                                                       \r"
     ]
    },
    {
     "name": "stdout",
     "output_type": "stream",
     "text": [
      "MoviePy - Done.\n",
      "Moviepy - Writing video resources/Funny Story of 3 Minutes/Funny Story of 3 Minutes_video_en.mp4\n",
      "\n"
     ]
    },
    {
     "name": "stderr",
     "output_type": "stream",
     "text": [
      "                                                                                                                       \r"
     ]
    },
    {
     "name": "stdout",
     "output_type": "stream",
     "text": [
      "Moviepy - Done !\n",
      "Moviepy - video ready resources/Funny Story of 3 Minutes/Funny Story of 3 Minutes_video_en.mp4\n",
      "Video created successfully: resources/Funny Story of 3 Minutes/Funny Story of 3 Minutes_video_en.mp4\n",
      "Generating video in hi...\n",
      "Generated Script:\n",
      " \n",
      "        शीर्षक: 3 मिनट में एक मजेदार कहानी\n",
      "\n",
      "        \"नमस्ते दोस्तों! आइए मैं आपको एक मजेदार कहानी सुनाता हूँ जो आपको सिर्फ 3 मिनट में हंसी में डाल देगी! \n",
      "        एक बार एक आदमी था जिसे लगता था कि वह एक शानदार रसोइया है। \n",
      "        उसने अपने दोस्तों को अपने पाक कौशल से प्रभावित करना चाहा, लेकिन एक फैंसी डिनर बनाने के बजाय, \n",
      "        उसने गलती से किचन में आग लगा दी जब वह फ्लंबे बनाने की कोशिश कर रहा था! \n",
      "        सभी बाहर भाग गए जबकि वह अभी भी अंदर था और अपने सुफले को बचाने की कोशिश कर रहा था! \n",
      "        याद रखें दोस्तों, अगर आप गर्मी को संभाल नहीं सकते, तो रसोई से बाहर रहें!\"\n",
      "        \n",
      "Images already downloaded for Funny Story of 3 Minutes. Using existing images.\n",
      "MoviePy - Writing audio in resources/Funny Story of 3 Minutes/Funny Story of 3 Minutes_audio_hi_adjusted.mp3\n"
     ]
    },
    {
     "name": "stderr",
     "output_type": "stream",
     "text": [
      "                                                                                                                       \r"
     ]
    },
    {
     "name": "stdout",
     "output_type": "stream",
     "text": [
      "MoviePy - Done.\n",
      "No music found for the topic: Funny Story of 3 Minutes\n",
      "Moviepy - Building video resources/Funny Story of 3 Minutes/Funny Story of 3 Minutes_video_hi.mp4.\n",
      "MoviePy - Writing audio in Funny Story of 3 Minutes_video_hiTEMP_MPY_wvf_snd.mp3\n"
     ]
    },
    {
     "name": "stderr",
     "output_type": "stream",
     "text": [
      "                                                                                                                       \r"
     ]
    },
    {
     "name": "stdout",
     "output_type": "stream",
     "text": [
      "MoviePy - Done.\n",
      "Moviepy - Writing video resources/Funny Story of 3 Minutes/Funny Story of 3 Minutes_video_hi.mp4\n",
      "\n"
     ]
    },
    {
     "name": "stderr",
     "output_type": "stream",
     "text": [
      "                                                                                                                       \r"
     ]
    },
    {
     "name": "stdout",
     "output_type": "stream",
     "text": [
      "Moviepy - Done !\n",
      "Moviepy - video ready resources/Funny Story of 3 Minutes/Funny Story of 3 Minutes_video_hi.mp4\n",
      "Video created successfully: resources/Funny Story of 3 Minutes/Funny Story of 3 Minutes_video_hi.mp4\n",
      "Generating video in te...\n",
      "Generated Script:\n",
      " \n",
      "        శీర్షిక: 3 నిమిషాల్లో ఒక వినోదం కథ\n",
      "\n",
      "        \"అందరికీ నమస్కారం! మీకు కేవలం 3 నిమిషాల్లో హాస్యంగా ఉన్న ఒక వినోదం కథను చెప్పాలనుకుంటున్నాను! \n",
      "        ఒక వ్యక్తి బాగా పాకం చెయ్యగల దాని గురించి అనుకున్నాడు. \n",
      "        అతను తన మిత్రులను తన వంట నైపుణ్యాలతో ఆకర్షించాలనుకున్నాడు, కానీ బాగా డిన్నర్ చేసేందుకు \n",
      "        ప్రయత్నించినప్పుడు, అతను ఫ్లాంబ్ చేసే సమయంలో కిచన్‌లో అగ్నిప్రమాదం జరగడం జరిగింది! \n",
      "        అందరూ బయటకు పరుగులు పెట్టారు, కానీ అతను ఇంకా అక్కడి కిచెన్‌లో తన సుఫ్లేను కాపాడటానికి ప్రయత్నించేవాడే! \n",
      "        మిత్రులారా, మీరు వేడి తీసుకోలేకపోతే, కిచెన్‌కు దూరంగా ఉండండి!\"\n",
      "        \n",
      "Images already downloaded for Funny Story of 3 Minutes. Using existing images.\n",
      "MoviePy - Writing audio in resources/Funny Story of 3 Minutes/Funny Story of 3 Minutes_audio_te_adjusted.mp3\n"
     ]
    },
    {
     "name": "stderr",
     "output_type": "stream",
     "text": [
      "                                                                                                                       \r"
     ]
    },
    {
     "name": "stdout",
     "output_type": "stream",
     "text": [
      "MoviePy - Done.\n",
      "No music found for the topic: Funny Story of 3 Minutes\n",
      "Moviepy - Building video resources/Funny Story of 3 Minutes/Funny Story of 3 Minutes_video_te.mp4.\n",
      "MoviePy - Writing audio in Funny Story of 3 Minutes_video_teTEMP_MPY_wvf_snd.mp3\n"
     ]
    },
    {
     "name": "stderr",
     "output_type": "stream",
     "text": [
      "                                                                                                                       \r"
     ]
    },
    {
     "name": "stdout",
     "output_type": "stream",
     "text": [
      "MoviePy - Done.\n",
      "Moviepy - Writing video resources/Funny Story of 3 Minutes/Funny Story of 3 Minutes_video_te.mp4\n",
      "\n"
     ]
    },
    {
     "name": "stderr",
     "output_type": "stream",
     "text": [
      "                                                                                                                       \r"
     ]
    },
    {
     "name": "stdout",
     "output_type": "stream",
     "text": [
      "Moviepy - Done !\n",
      "Moviepy - video ready resources/Funny Story of 3 Minutes/Funny Story of 3 Minutes_video_te.mp4\n",
      "Video created successfully: resources/Funny Story of 3 Minutes/Funny Story of 3 Minutes_video_te.mp4\n"
     ]
    }
   ],
   "source": [
    "import os\n",
    "import random\n",
    "import requests\n",
    "from moviepy.editor import *\n",
    "from PIL import Image\n",
    "from gtts import gTTS\n",
    "from dotenv import load_dotenv\n",
    "from bs4 import BeautifulSoup\n",
    "\n",
    "# Load environment variables from .env file\n",
    "load_dotenv()\n",
    "UNSPLASH_ACCESS_KEY = os.getenv('UNSPLASH_ACCESS_KEY')\n",
    "\n",
    "# Function to generate a funny script for a topic in different languages\n",
    "def generate_funny_script(topic, lang):\n",
    "    scripts = {\n",
    "        'en': f\"\"\"\n",
    "        Title: A Funny Story in 3 Minutes\n",
    "\n",
    "        \"Hey everyone! Let me share a funny story that will have you in stitches in just 3 minutes! \n",
    "        So, there was this guy who thought he was an amazing chef. He wanted to impress his friends \n",
    "        with his culinary skills. But instead of making a fancy dinner, he accidentally set the kitchen \n",
    "        on fire while trying to flambé! \n",
    "        Everyone ran out while he was still in there trying to save his soufflé! \n",
    "        Remember folks, if you can't handle the heat, stay out of the kitchen!\"\n",
    "        \"\"\",\n",
    "        'hi': f\"\"\"\n",
    "        शीर्षक: 3 मिनट में एक मजेदार कहानी\n",
    "\n",
    "        \"नमस्ते दोस्तों! आइए मैं आपको एक मजेदार कहानी सुनाता हूँ जो आपको सिर्फ 3 मिनट में हंसी में डाल देगी! \n",
    "        एक बार एक आदमी था जिसे लगता था कि वह एक शानदार रसोइया है। \n",
    "        उसने अपने दोस्तों को अपने पाक कौशल से प्रभावित करना चाहा, लेकिन एक फैंसी डिनर बनाने के बजाय, \n",
    "        उसने गलती से किचन में आग लगा दी जब वह फ्लंबे बनाने की कोशिश कर रहा था! \n",
    "        सभी बाहर भाग गए जबकि वह अभी भी अंदर था और अपने सुफले को बचाने की कोशिश कर रहा था! \n",
    "        याद रखें दोस्तों, अगर आप गर्मी को संभाल नहीं सकते, तो रसोई से बाहर रहें!\"\n",
    "        \"\"\",\n",
    "        'te': f\"\"\"\n",
    "        శీర్షిక: 3 నిమిషాల్లో ఒక వినోదం కథ\n",
    "\n",
    "        \"అందరికీ నమస్కారం! మీకు కేవలం 3 నిమిషాల్లో హాస్యంగా ఉన్న ఒక వినోదం కథను చెప్పాలనుకుంటున్నాను! \n",
    "        ఒక వ్యక్తి బాగా పాకం చెయ్యగల దాని గురించి అనుకున్నాడు. \n",
    "        అతను తన మిత్రులను తన వంట నైపుణ్యాలతో ఆకర్షించాలనుకున్నాడు, కానీ బాగా డిన్నర్ చేసేందుకు \n",
    "        ప్రయత్నించినప్పుడు, అతను ఫ్లాంబ్ చేసే సమయంలో కిచన్‌లో అగ్నిప్రమాదం జరగడం జరిగింది! \n",
    "        అందరూ బయటకు పరుగులు పెట్టారు, కానీ అతను ఇంకా అక్కడి కిచెన్‌లో తన సుఫ్లేను కాపాడటానికి ప్రయత్నించేవాడే! \n",
    "        మిత్రులారా, మీరు వేడి తీసుకోలేకపోతే, కిచెన్‌కు దూరంగా ఉండండి!\"\n",
    "        \"\"\",\n",
    "    }\n",
    "    \n",
    "    return scripts.get(lang, scripts['en'])  # Default to English if language not found\n",
    "\n",
    "# Function to download images from Unsplash\n",
    "def download_images(topic, num_images=10):\n",
    "    folder = f\"resources/{topic}/images\"\n",
    "    os.makedirs(folder, exist_ok=True)\n",
    "    \n",
    "    # Check if images already exist\n",
    "    existing_images = set(os.listdir(folder))\n",
    "    \n",
    "    if len(existing_images) >= num_images:\n",
    "        print(f\"Images already downloaded for {topic}. Using existing images.\")\n",
    "        return [os.path.join(folder, img) for img in existing_images]\n",
    "    \n",
    "    url = f\"https://api.unsplash.com/photos/random?query={topic}&count={num_images}&client_id={UNSPLASH_ACCESS_KEY}\"\n",
    "    response = requests.get(url)\n",
    "    \n",
    "    if response.status_code != 200:\n",
    "        print(f\"Error fetching images: {response.status_code} - {response.text}\")\n",
    "        return []\n",
    "    \n",
    "    photos = response.json()\n",
    "    image_paths = []\n",
    "    \n",
    "    for photo in photos:\n",
    "        img_url = photo['urls']['raw']\n",
    "        img_name = os.path.join(folder, f\"{photo['id']}.jpg\")\n",
    "        img_response = requests.get(img_url)\n",
    "        \n",
    "        with open(img_name, 'wb') as img_file:\n",
    "            img_file.write(img_response.content)\n",
    "        image_paths.append(img_name)\n",
    "        print(f\"Downloaded and saved image: {img_name}\")\n",
    "    \n",
    "    return image_paths\n",
    "\n",
    "# Function to clean and adjust audio\n",
    "def clean_and_adjust_audio(audio_filename):\n",
    "    # Load audio\n",
    "    audio = AudioFileClip(audio_filename)\n",
    "\n",
    "    # Increase volume\n",
    "    audio = audio.volumex(10.0)  # Set volume to 10\n",
    "\n",
    "    # Save the adjusted audio\n",
    "    adjusted_audio_filename = audio_filename.replace('.mp3', '_adjusted.mp3')\n",
    "    audio.write_audiofile(adjusted_audio_filename, codec='mp3')\n",
    "    \n",
    "    return adjusted_audio_filename\n",
    "\n",
    "# Function to download background music based on the topic\n",
    "def download_background_music(topic):\n",
    "    # Example: Use Free Music Archive (FMA) to find background music\n",
    "    search_url = f\"https://freemusicarchive.org/search/?quicksearch={topic.replace(' ', '+')}\"\n",
    "    response = requests.get(search_url)\n",
    "\n",
    "    if response.status_code != 200:\n",
    "        print(f\"Error fetching background music: {response.status_code} - {response.text}\")\n",
    "        return None\n",
    "\n",
    "    # Parse the page to find music links\n",
    "    soup = BeautifulSoup(response.text, 'html.parser')\n",
    "    music_links = soup.find_all('a', class_='audio_link')\n",
    "\n",
    "    if not music_links:\n",
    "        print(f\"No music found for the topic: {topic}\")\n",
    "        return None\n",
    "\n",
    "    # Get the first music link (or you can modify this to select randomly)\n",
    "    music_url = music_links[0]['href']\n",
    "    music_file_response = requests.get(music_url)\n",
    "\n",
    "    # Download the music file (assuming the URL is direct to an audio file)\n",
    "    music_filename = f\"resources/{topic}/{topic}_background_music.mp3\"\n",
    "    os.makedirs(f\"resources/{topic}\", exist_ok=True)\n",
    "\n",
    "    with open(music_filename, 'wb') as music_file:\n",
    "        music_file.write(music_file_response.content)\n",
    "\n",
    "    return music_filename\n",
    "\n",
    "# Function to create the video\n",
    "def create_video(script_text, audio_filename, video_filename, image_paths, background_music):\n",
    "    # Create a simple video clip for each image\n",
    "    image_clips = []\n",
    "    \n",
    "    audio_duration = AudioFileClip(audio_filename).duration\n",
    "    image_duration = audio_duration / len(image_paths)  # Dynamic duration per image\n",
    "    \n",
    "    for img_path in image_paths:\n",
    "        if not os.path.exists(img_path):\n",
    "            print(f\"Image not found: {img_path}. Skipping this image.\")\n",
    "            continue\n",
    "        \n",
    "        # Open and resize the image\n",
    "        with Image.open(img_path) as img:\n",
    "            img = img.resize((1280, 720), Image.LANCZOS)  # Resize to fit video dimensions\n",
    "            img.save(img_path)  # Save the resized image back\n",
    "        \n",
    "        clip = ImageClip(img_path).set_duration(image_duration)  # Set duration for each image\n",
    "        clip = clip.set_position(\"center\")  # Center the image\n",
    "        image_clips.append(clip)\n",
    "\n",
    "    if not image_clips:\n",
    "        print(\"No valid images were found. Cannot create a video.\")\n",
    "        return\n",
    "\n",
    "    # Concatenate images into a video\n",
    "    video = concatenate_videoclips(image_clips, method=\"compose\")\n",
    "\n",
    "    # Load audio and set it to the video\n",
    "    audio = AudioFileClip(audio_filename)\n",
    "    video = video.set_audio(audio)\n",
    "\n",
    "    # Add background music\n",
    "    if background_music:\n",
    "        music = AudioFileClip(background_music).volumex(0.1)  # Adjust volume as needed\n",
    "        music = music.subclip(0, audio.duration)  # Trim music to match narration length\n",
    "        \n",
    "        # Overlay background music with the main audio\n",
    "        final_audio = CompositeAudioClip([audio, music])\n",
    "        video = video.set_audio(final_audio)\n",
    "\n",
    "    # Write the result to a file\n",
    "    video.write_videofile(video_filename, fps=24)\n",
    "\n",
    "# Main function to execute the steps\n",
    "def main(topic, languages):\n",
    "    for lang in languages:\n",
    "        print(f\"Generating video in {lang}...\")\n",
    "\n",
    "        # Step 1: Generate a funny script in the specified language\n",
    "        script = generate_funny_script(topic, lang)\n",
    "        print(\"Generated Script:\\n\", script)\n",
    "\n",
    "        # Step 2: Download images\n",
    "        image_paths = download_images(topic)\n",
    "\n",
    "        # Step 3: Generate audio from the script\n",
    "        audio_filename = f\"resources/{topic}/{topic}_audio_{lang}.mp3\"\n",
    "        tts = gTTS(text=script, lang=lang)\n",
    "        tts.save(audio_filename)\n",
    "\n",
    "        # Clean and adjust the audio after saving\n",
    "        audio_filename = clean_and_adjust_audio(audio_filename)\n",
    "\n",
    "        # Step 4: Download background music based on the topic\n",
    "        background_music = download_background_music(topic)\n",
    "\n",
    "        # Step 5: Create the video\n",
    "        video_filename = f\"resources/{topic}/{topic}_video_{lang}.mp4\"\n",
    "        create_video(script, audio_filename, video_filename, image_paths, background_music)\n",
    "        print(f\"Video created successfully: {video_filename}\")\n",
    "\n",
    "# Example usage\n",
    "if __name__ == \"__main__\":\n",
    "    topic = \"Funny Story of 3 Minutes\"  # Updated topic\n",
    "    languages = ['en', 'hi', 'te']  # List of language codes\n",
    "    main(topic, languages)\n"
   ]
  },
  {
   "cell_type": "code",
   "execution_count": null,
   "id": "a8dc5d34-2b59-4d55-acd6-a2480893f503",
   "metadata": {},
   "outputs": [],
   "source": []
  }
 ],
 "metadata": {
  "kernelspec": {
   "display_name": "Python (yt_env)",
   "language": "python",
   "name": "yt_env"
  },
  "language_info": {
   "codemirror_mode": {
    "name": "ipython",
    "version": 3
   },
   "file_extension": ".py",
   "mimetype": "text/x-python",
   "name": "python",
   "nbconvert_exporter": "python",
   "pygments_lexer": "ipython3",
   "version": "3.9.1"
  }
 },
 "nbformat": 4,
 "nbformat_minor": 5
}
