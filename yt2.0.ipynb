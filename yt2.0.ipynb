{
 "cells": [
  {
   "cell_type": "code",
   "execution_count": 5,
   "id": "e78ea3ae-e5af-4cbb-a2e8-5ccbf2647ec3",
   "metadata": {},
   "outputs": [],
   "source": [
    "# !pip install moviepy gtts Pillow python-dotenv beautifulsoup4 requests google-auth google-auth-oauthlib google-auth-httplib2 google-api-python-client\n",
    "# !pip install moviepy Pillow gTTS google-api-python-client python-dotenv \n",
    "#!pip install noisereduce\n",
    "import noisereduce\n"
   ]
  },
  {
   "cell_type": "markdown",
   "id": "c87e3ccc-f85a-408e-b198-23ac2a0969bb",
   "metadata": {},
   "source": [
    "### `vd_gen_yt_upload.txt`\n",
    "\n",
    "```\n",
    "Generate a YouTube video upload file based on the following topic:\n",
    "\n",
    "**Topic**: story about Ratan Tata  \n",
    "**Language**: Telugu  \n",
    "\n",
    "Please include the following sections:\n",
    "\n",
    "1. **Title**: Create a catchy title for the video that captures the essence of the topic.\n",
    "2. **Description**: Write a compelling description that summarizes the content and purpose of the video, engaging the audience's interest.\n",
    "3. **Story Narration**: Provide a detailed narration or script for the video, focusing on inspirational elements while also offering educational insights related to Ratan Tata's journey. Start with a friendly introduction, including a call to action asking viewers to subscribe and hit the bell icon for notifications.\n",
    "4. **Tags**: List relevant tags in both English and Telugu to improve the video's visibility on YouTube, considering popular keywords related to the topic.\n",
    "5. **Narration Type**: Determine a suitable narration type based on the topic (e.g., Inspirational Story, Educational Guide, etc.).\n",
    "\n",
    "Ensure the output is formatted clearly for use in a text file, with each section labeled appropriately and providing enough detail to guide the viewer. Include a friendly greeting at the beginning, encouraging viewers to engage with the channel by subscribing and clicking the notification bell.\n",
    "\n",
    "```\n"
   ]
  },
  {
   "cell_type": "code",
   "execution_count": null,
   "id": "a161b930-5b3b-4b67-a3b8-2a5fc08eb3b8",
   "metadata": {},
   "outputs": [
    {
     "name": "stdout",
     "output_type": "stream",
     "text": [
      "Generating video in en...\n",
      "Generated Script:\n",
      " Here's a funny story about Funny Story of 3 Minutes that will keep you entertained!\n",
      "MoviePy - Writing audio in resources/Funny Story of 3 Minutes/Funny Story of 3 Minutes_audio_en_adjusted.mp3\n"
     ]
    },
    {
     "name": "stderr",
     "output_type": "stream",
     "text": [
      "                                                                                                                       "
     ]
    },
    {
     "name": "stdout",
     "output_type": "stream",
     "text": [
      "MoviePy - Done.\n"
     ]
    },
    {
     "name": "stderr",
     "output_type": "stream",
     "text": [
      "\r"
     ]
    },
    {
     "name": "stdout",
     "output_type": "stream",
     "text": [
      "No music found for the topic: Funny Story of 3 Minutes\n",
      "Moviepy - Building video resources/Funny Story of 3 Minutes/Funny Story of 3 Minutes_video_en.mp4.\n",
      "MoviePy - Writing audio in Funny Story of 3 Minutes_video_enTEMP_MPY_wvf_snd.mp3\n"
     ]
    },
    {
     "name": "stderr",
     "output_type": "stream",
     "text": [
      "                                                                                                                       \r"
     ]
    },
    {
     "name": "stdout",
     "output_type": "stream",
     "text": [
      "MoviePy - Done.\n",
      "Moviepy - Writing video resources/Funny Story of 3 Minutes/Funny Story of 3 Minutes_video_en.mp4\n",
      "\n"
     ]
    },
    {
     "name": "stderr",
     "output_type": "stream",
     "text": [
      "                                                                                                                       \r"
     ]
    },
    {
     "name": "stdout",
     "output_type": "stream",
     "text": [
      "Moviepy - Done !\n",
      "Moviepy - video ready resources/Funny Story of 3 Minutes/Funny Story of 3 Minutes_video_en.mp4\n",
      "Video created successfully: resources/Funny Story of 3 Minutes/Funny Story of 3 Minutes_video_en.mp4\n",
      "Video uploaded to YouTube: resources/Funny Story of 3 Minutes/Funny Story of 3 Minutes_video_en.mp4\n",
      "Generating video in hi...\n",
      "Generated Script:\n",
      " Funny Story of 3 Minutes पर एक मजेदार कहानी है जो आपको मनोरंजन में रखेगी!\n",
      "MoviePy - Writing audio in resources/Funny Story of 3 Minutes/Funny Story of 3 Minutes_audio_hi_adjusted.mp3\n"
     ]
    },
    {
     "name": "stderr",
     "output_type": "stream",
     "text": [
      "                                                                                                                       "
     ]
    },
    {
     "name": "stdout",
     "output_type": "stream",
     "text": [
      "MoviePy - Done."
     ]
    },
    {
     "name": "stderr",
     "output_type": "stream",
     "text": [
      "\r"
     ]
    },
    {
     "name": "stdout",
     "output_type": "stream",
     "text": [
      "\n",
      "No music found for the topic: Funny Story of 3 Minutes\n",
      "Moviepy - Building video resources/Funny Story of 3 Minutes/Funny Story of 3 Minutes_video_hi.mp4.\n",
      "MoviePy - Writing audio in Funny Story of 3 Minutes_video_hiTEMP_MPY_wvf_snd.mp3\n"
     ]
    },
    {
     "name": "stderr",
     "output_type": "stream",
     "text": [
      "                                                                                                                       \r"
     ]
    },
    {
     "name": "stdout",
     "output_type": "stream",
     "text": [
      "MoviePy - Done.\n",
      "Moviepy - Writing video resources/Funny Story of 3 Minutes/Funny Story of 3 Minutes_video_hi.mp4\n",
      "\n"
     ]
    },
    {
     "name": "stderr",
     "output_type": "stream",
     "text": [
      "                                                                                                                       \r"
     ]
    },
    {
     "name": "stdout",
     "output_type": "stream",
     "text": [
      "Moviepy - Done !\n",
      "Moviepy - video ready resources/Funny Story of 3 Minutes/Funny Story of 3 Minutes_video_hi.mp4\n",
      "Video created successfully: resources/Funny Story of 3 Minutes/Funny Story of 3 Minutes_video_hi.mp4\n",
      "Video uploaded to YouTube: resources/Funny Story of 3 Minutes/Funny Story of 3 Minutes_video_hi.mp4\n",
      "Generating video in te...\n",
      "Generated Script:\n",
      " Funny Story of 3 Minutes గురించి మీకు వినోదం ఇవ్వడానికి ఒక వినోదకరమైన కథ ఉంది!\n",
      "MoviePy - Writing audio in resources/Funny Story of 3 Minutes/Funny Story of 3 Minutes_audio_te_adjusted.mp3\n"
     ]
    },
    {
     "name": "stderr",
     "output_type": "stream",
     "text": [
      "                                                                                                                       "
     ]
    },
    {
     "name": "stdout",
     "output_type": "stream",
     "text": [
      "MoviePy - Done.\n"
     ]
    },
    {
     "name": "stderr",
     "output_type": "stream",
     "text": [
      "\r"
     ]
    },
    {
     "name": "stdout",
     "output_type": "stream",
     "text": [
      "No music found for the topic: Funny Story of 3 Minutes\n"
     ]
    }
   ],
   "source": [
    "import os\n",
    "import random\n",
    "import requests\n",
    "from moviepy.editor import *\n",
    "from PIL import Image\n",
    "from gtts import gTTS\n",
    "from dotenv import load_dotenv\n",
    "from bs4 import BeautifulSoup\n",
    "from googleapiclient.discovery import build\n",
    "from googleapiclient.errors import HttpError\n",
    "from googleapiclient.http import MediaFileUpload\n",
    "\n",
    "# Load environment variables\n",
    "load_dotenv()\n",
    "UNSPLASH_ACCESS_KEY = os.getenv('UNSPLASH_ACCESS_KEY')\n",
    "YOUTUBE_API_KEY = os.getenv('YOUTUBE_API_KEY')\n",
    "YOUTUBE_CLIENT_SECRETS_FILE = os.getenv('YOUTUBE_CLIENT_SECRETS_FILE')\n",
    "\n",
    "# Generate script based on the topic and language\n",
    "def generate_script(topic, lang):\n",
    "    scripts = {\n",
    "        'en': f\"Here's a funny story about {topic} that will keep you entertained!\",\n",
    "        'hi': f\"{topic} पर एक मजेदार कहानी है जो आपको मनोरंजन में रखेगी!\",\n",
    "        'te': f\"{topic} గురించి మీకు వినోదం ఇవ్వడానికి ఒక వినోదకరమైన కథ ఉంది!\"\n",
    "    }\n",
    "    return scripts.get(lang, scripts['en'])\n",
    "\n",
    "# Download images from Unsplash\n",
    "def download_images(topic, num_images=10):\n",
    "    folder = f\"resources/{topic}/images\"\n",
    "    os.makedirs(folder, exist_ok=True)\n",
    "    url = f\"https://api.unsplash.com/photos/random?query={topic}&count={num_images}&client_id={UNSPLASH_ACCESS_KEY}\"\n",
    "    response = requests.get(url)\n",
    "    if response.status_code != 200:\n",
    "        print(f\"Error fetching images: {response.status_code} - {response.text}\")\n",
    "        return []\n",
    "    \n",
    "    photos = response.json()\n",
    "    image_paths = []\n",
    "    for photo in photos:\n",
    "        img_url = photo['urls']['raw']\n",
    "        img_name = os.path.join(folder, f\"{photo['id']}.jpg\")\n",
    "        img_response = requests.get(img_url)\n",
    "        with open(img_name, 'wb') as img_file:\n",
    "            img_file.write(img_response.content)\n",
    "        image_paths.append(img_name)\n",
    "    \n",
    "    return image_paths\n",
    "\n",
    "# Clean and adjust audio\n",
    "def clean_and_adjust_audio(audio_filename):\n",
    "    audio = AudioFileClip(audio_filename)\n",
    "    audio = audio.volumex(10.0)\n",
    "    adjusted_audio_filename = audio_filename.replace('.mp3', '_adjusted.mp3')\n",
    "    audio.write_audiofile(adjusted_audio_filename, codec='mp3')\n",
    "    return adjusted_audio_filename\n",
    "\n",
    "# Download background music\n",
    "def download_background_music(topic):\n",
    "    search_url = f\"https://freemusicarchive.org/search/?quicksearch={topic.replace(' ', '+')}\"\n",
    "    response = requests.get(search_url)\n",
    "    soup = BeautifulSoup(response.text, 'html.parser')\n",
    "    music_links = soup.find_all('a', class_='audio_link')\n",
    "    if not music_links:\n",
    "        print(f\"No music found for the topic: {topic}\")\n",
    "        return None\n",
    "\n",
    "    music_url = music_links[0]['href']\n",
    "    music_filename = f\"resources/{topic}/{topic}_background_music.mp3\"\n",
    "    os.makedirs(f\"resources/{topic}\", exist_ok=True)\n",
    "    \n",
    "    music_file_response = requests.get(music_url)\n",
    "    with open(music_filename, 'wb') as music_file:\n",
    "        music_file.write(music_file_response.content)\n",
    "\n",
    "    return music_filename\n",
    "\n",
    "# Create video\n",
    "def create_video(script_text, audio_filename, video_filename, image_paths, background_music):\n",
    "    image_clips = []\n",
    "    audio_duration = AudioFileClip(audio_filename).duration\n",
    "    image_duration = audio_duration / len(image_paths) if image_paths else 0\n",
    "\n",
    "    for img_path in image_paths:\n",
    "        with Image.open(img_path) as img:\n",
    "            img = img.resize((1280, 720), Image.LANCZOS)\n",
    "            img.save(img_path)\n",
    "        clip = ImageClip(img_path).set_duration(image_duration).set_position(\"center\")\n",
    "        image_clips.append(clip)\n",
    "\n",
    "    if not image_clips:\n",
    "        print(\"No valid images found. Cannot create a video.\")\n",
    "        return\n",
    "\n",
    "    video = concatenate_videoclips(image_clips, method=\"compose\")\n",
    "    audio = AudioFileClip(audio_filename)\n",
    "    video = video.set_audio(audio)\n",
    "\n",
    "    if background_music:\n",
    "        music = AudioFileClip(background_music).volumex(0.1)\n",
    "        music = music.subclip(0, audio.duration)\n",
    "        final_audio = CompositeAudioClip([audio, music])\n",
    "        video = video.set_audio(final_audio)\n",
    "\n",
    "    video.write_videofile(video_filename, fps=24)\n",
    "\n",
    "# Upload video to YouTube\n",
    "def upload_video(youtube, video_filename, title, description, tags):\n",
    "    body = {\n",
    "        'snippet': {\n",
    "            'title': title,\n",
    "            'description': description,\n",
    "            'tags': tags,\n",
    "            'categoryId': '22'  # Comedy category\n",
    "        },\n",
    "        'status': {\n",
    "            'privacyStatus': 'public'\n",
    "        }\n",
    "    }\n",
    "\n",
    "    with open(video_filename, 'rb') as video_file:\n",
    "        request = youtube.videos().insert(part='snippet,status', body=body, media_body=MediaFileUpload(video_filename))\n",
    "        response = request.execute()\n",
    "    return response\n",
    "\n",
    "# Main function\n",
    "def main(topic, languages):\n",
    "    for lang in languages:\n",
    "        print(f\"Generating video in {lang}...\")\n",
    "\n",
    "        script = generate_script(topic, lang)\n",
    "        print(\"Generated Script:\\n\", script)\n",
    "\n",
    "        image_paths = download_images(topic)\n",
    "\n",
    "        audio_filename = f\"resources/{topic}/{topic}_audio_{lang}.mp3\"\n",
    "        tts = gTTS(text=script, lang=lang)\n",
    "        tts.save(audio_filename)\n",
    "        audio_filename = clean_and_adjust_audio(audio_filename)\n",
    "\n",
    "        background_music = download_background_music(topic)\n",
    "\n",
    "        video_filename = f\"resources/{topic}/{topic}_video_{lang}.mp4\"\n",
    "        create_video(script, audio_filename, video_filename, image_paths, background_music)\n",
    "        print(f\"Video created successfully: {video_filename}\")\n",
    "\n",
    "        # YouTube Upload\n",
    "        try:\n",
    "            # youtube = build('youtube', 'v3', developerKey=YOUTUBE_API_KEY)\n",
    "            # upload_video(youtube, video_filename, f\"{topic} - {lang}\", script, ['funny', 'story', 'entertainment'])\n",
    "            print(f\"Video uploaded to YouTube: {video_filename}\")\n",
    "        except HttpError as e:\n",
    "            print(f\"An error occurred: {e}\")\n",
    "\n",
    "# Example usage\n",
    "if __name__ == \"__main__\":\n",
    "    topic = \"Funny Story of 3 Minutes\"\n",
    "    languages = ['en', 'hi', 'te']\n",
    "    main(topic, languages)\n"
   ]
  },
  {
   "cell_type": "markdown",
   "id": "588e51e0-f28e-4ac9-906b-69869df785fc",
   "metadata": {},
   "source": [
    "### Script\n",
    "\n",
    "```\n",
    "prompt formatted as a selectable code block:\n",
    "\n",
    "**Topic:** Story about <Insert Topic>  \n",
    "**Language:** <Insert Language>\n",
    "\n",
    "1. **Title:**  \n",
    "   \"<Insert Catchy Title>\"\n",
    "\n",
    "2. **Description:**  \n",
    "   In this video, we will explore <Insert Topic>. <Briefly summarize the content and purpose, engaging the audience's interest.> This is a great opportunity to share inspiration and guide you towards success. Don't forget to subscribe to our channel and hit the bell icon for new content!\n",
    "\n",
    "3. **Story Narration:**  \n",
    "   **Introduction:** \"Hello, everyone! Welcome back to our channel. I’m <Insert Anchor Name>, your inspirational friend. I’m excited to talk about <Insert Topic>.\"  \n",
    "   (You can replace this line with an introduction suitable for the chosen language.)\n",
    "\n",
    "   **Content:** \"<Introduce the topic with key characters, events, or concepts>.\"  \n",
    "   <As the story unfolds, include interesting details and insights that educate and inspire the audience about the topic>.\n",
    "\n",
    "   **Conclusion:** \"This is our discussion on <Insert Topic>. If you found it interesting, please subscribe to our channel and click the bell icon for notifications. Thank you!\"  \n",
    "   (You can replace this line with a conclusion suitable for the chosen language.)\n",
    "\n",
    "4. **Tags:**  \n",
    "   <Insert relevant tags in English>, <Insert relevant tags in the chosen language>\n",
    "\n",
    "5. **Narration Type:**  \n",
    "   <Insert suitable narration type, e.g., Inspirational Story, Educational Guide, etc.>\n",
    "\n",
    "6. **categoryId:**  \n",
    "   <Insert YouTube category ID>\n",
    "\n",
    "7. **privacyStatus:**  \n",
    "   <Insert privacy status, e.g., public, unlisted, or private>\n",
    "\n",
    "8. **Languages:**  \n",
    "   <Insert supported languages here, separated by commas, e.g., en, hi, te>\n",
    "\n",
    "9. **Anchor Mapping:**  \n",
    "   <Insert anchor mapping, e.g.,Lisa for Languages en, en=Lisa, hi=Sindu, te=Kanna Divya>\n",
    "\n",
    "\n",
    "\n",
    "```\n"
   ]
  },
  {
   "cell_type": "code",
   "execution_count": null,
   "id": "0d44d2ae-bd5b-4170-ba3f-575221a1319a",
   "metadata": {},
   "outputs": [],
   "source": []
  },
  {
   "cell_type": "code",
   "execution_count": null,
   "id": "f3836868-0e73-4164-9eee-f8af72365fad",
   "metadata": {},
   "outputs": [],
   "source": []
  }
 ],
 "metadata": {
  "kernelspec": {
   "display_name": "Python (yt_env)",
   "language": "python",
   "name": "yt_env"
  },
  "language_info": {
   "codemirror_mode": {
    "name": "ipython",
    "version": 3
   },
   "file_extension": ".py",
   "mimetype": "text/x-python",
   "name": "python",
   "nbconvert_exporter": "python",
   "pygments_lexer": "ipython3",
   "version": "3.9.1"
  }
 },
 "nbformat": 4,
 "nbformat_minor": 5
}
